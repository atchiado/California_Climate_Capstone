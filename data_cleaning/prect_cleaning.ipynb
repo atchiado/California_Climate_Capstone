{
 "cells": [
  {
   "cell_type": "code",
   "execution_count": 1,
   "metadata": {},
   "outputs": [],
   "source": [
    "import math\n",
    "import h5py\n",
    "import numpy as np \n",
    "import netCDF4 as nc\n",
    "import xarray as xr\n",
    "import matplotlib.pyplot as plt\n",
    "import time\n",
    "import pandas as pd"
   ]
  },
  {
   "cell_type": "markdown",
   "metadata": {},
   "source": [
    "### Load original data and filter out non-winter months"
   ]
  },
  {
   "cell_type": "code",
   "execution_count": 2,
   "metadata": {},
   "outputs": [],
   "source": [
    "fn = '/Users/anthonychiado/Desktop/work/uva/capstone/b.e21.BHISTcmip6.f09_g17.LE2-1001.001.cam.h0.PRECT.194001-194912.nc' # just using one data file at first to get the code right\n",
    "ds = nc.Dataset(fn, 'r+') # open netCDF file\n",
    "\n",
    "lat = ds.variables['lat'][:]\n",
    "lon = ds.variables['lon'][:]\n",
    "date = ds.variables['date'][:]\n",
    "date = np.array([np.datetime64(str(d)) for d in date])\n",
    "prect = ds.variables['PRECT'][:] # assigned to variables and reformated date as netcdf"
   ]
  },
  {
   "cell_type": "code",
   "execution_count": null,
   "metadata": {},
   "outputs": [],
   "source": [
    "# Haven't been able to find a way to filter out the dates to Nov-Mar and the corresponding monthly PRECT totals for Nov-Mar"
   ]
  },
  {
   "cell_type": "code",
   "execution_count": 4,
   "metadata": {},
   "outputs": [],
   "source": [
    "filtered_nc_file = '/Users/anthonychiado/Desktop/work/uva/capstone/filtered_prect_data.nc' # saves filtered data with only the 4 relevant variables in a new netCDF file\n",
    "with nc.Dataset(filtered_nc_file, 'w') as nc_output:\n",
    "    nc_output.createDimension('lat', len(filtered_lat))\n",
    "    nc_output.createDimension('lon', len(filtered_lon))\n",
    "    nc_output.createDimension('date', len(filtered_date))\n",
    "\n",
    "    nc_output.createVariable('lat', 'f4', ('lat',))\n",
    "    nc_output.createVariable('lon', 'f4', ('lon',))\n",
    "    nc_output.createVariable('date', 'i4', ('date',))\n",
    "    nc_output.createVariable('prect', 'f4', ('date', 'lat', 'lon'))\n",
    "\n",
    "    nc_output.variables['lat'][:] = filtered_lat\n",
    "    nc_output.variables['lon'][:] = filtered_lon\n",
    "    nc_output.variables['date'][:] = np.arange(len(filtered_date))\n",
    "    nc_output.variables['prect'][:] = filtered_prect\n"
   ]
  },
  {
   "cell_type": "markdown",
   "metadata": {},
   "source": [
    "### Load filtered data"
   ]
  },
  {
   "cell_type": "markdown",
   "metadata": {},
   "source": [
    "### Calculate weighted spacial average"
   ]
  },
  {
   "cell_type": "code",
   "execution_count": null,
   "metadata": {},
   "outputs": [],
   "source": [
    "# tested this out earlier and was able to use the code essentially straight from the repo that Antonios sent us, where he was calculating the weighted average."
   ]
  }
 ],
 "metadata": {
  "kernelspec": {
   "display_name": "base",
   "language": "python",
   "name": "python3"
  },
  "language_info": {
   "codemirror_mode": {
    "name": "ipython",
    "version": 3
   },
   "file_extension": ".py",
   "mimetype": "text/x-python",
   "name": "python",
   "nbconvert_exporter": "python",
   "pygments_lexer": "ipython3",
   "version": "3.10.9"
  }
 },
 "nbformat": 4,
 "nbformat_minor": 2
}

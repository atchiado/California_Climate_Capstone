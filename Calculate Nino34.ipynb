{
 "cells": [
  {
   "cell_type": "code",
   "execution_count": 3,
   "metadata": {},
   "outputs": [],
   "source": [
    "import numpy as np\n",
    "import matplotlib\n",
    "import matplotlib.pyplot as plt\n",
    "import pandas as pd\n",
    "import xarray as xr\n",
    "import datetime"
   ]
  },
  {
   "cell_type": "code",
   "execution_count": 107,
   "metadata": {},
   "outputs": [],
   "source": [
    "def calc_nino(SST_data):\n",
    "    \n",
    "    # Open netcdf file\n",
    "    ds = xr.open_dataset(SST_data, decode_times=False)\n",
    "\n",
    "    # Fix Dates to Match File\n",
    "    reference_date = pd.to_datetime(\"1850-01-01\")\n",
    "    start_date = reference_date + datetime.timedelta(days = float(ds.time[0]))\n",
    "    ds['time'] = pd.date_range(start=start_date, periods=ds.sizes['time'], freq='MS')\n",
    "\n",
    "    # Select Niño 3.4 region (5N-5S, 170W-120W)\n",
    "    ds_nino34 = ds.sel(lat=slice(-5, 5), lon=slice(190, 240))\n",
    "\n",
    "    # Calculate area-weighted mean SST\n",
    "    weights = np.cos(np.deg2rad(ds_nino34.lat))\n",
    "    weights.name = 'weights'\n",
    "    ds_weighted = ds_nino34['SST'].weighted(weights)\n",
    "    mean_sst = ds_weighted.mean(dim=['lat', 'lon'])\n",
    "    ds_nino34 = mean_sst\n",
    "    \n",
    "    # Calculate monthly climatology and anomalies\n",
    "    #climatology = mean_sst.groupby('time.month').mean()\n",
    "    #anomalies = mean_sst.groupby('time.month') - climatology\n",
    "\n",
    "    # Apply 5-month running mean and normalize\n",
    "    #nino34 = anomalies.rolling(time=5, center=True).mean()\n",
    "    #nino34 = nino34 / nino34.std()\n",
    "\n",
    "    # Select Jul-Oct\n",
    "    month_list = [True if month in [7,8,9,10] else False for month in ds['time.month']]\n",
    "    ds_nino34 = ds_nino34.loc[{'time' : month_list}] \n",
    "\n",
    "    # Calculate temporal mean\n",
    "    ds_nino34 = ds_nino34.groupby('time.year').mean()\n",
    "\n",
    "    return ds_nino34"
   ]
  },
  {
   "cell_type": "code",
   "execution_count": 108,
   "metadata": {},
   "outputs": [
    {
     "data": {
      "text/html": [
       "<div>\n",
       "<style scoped>\n",
       "    .dataframe tbody tr th:only-of-type {\n",
       "        vertical-align: middle;\n",
       "    }\n",
       "\n",
       "    .dataframe tbody tr th {\n",
       "        vertical-align: top;\n",
       "    }\n",
       "\n",
       "    .dataframe thead th {\n",
       "        text-align: right;\n",
       "    }\n",
       "</style>\n",
       "<table border=\"1\" class=\"dataframe\">\n",
       "  <thead>\n",
       "    <tr style=\"text-align: right;\">\n",
       "      <th>year</th>\n",
       "      <th>2000</th>\n",
       "      <th>2001</th>\n",
       "      <th>2002</th>\n",
       "      <th>2003</th>\n",
       "      <th>2004</th>\n",
       "      <th>2005</th>\n",
       "      <th>2006</th>\n",
       "      <th>2007</th>\n",
       "      <th>2008</th>\n",
       "      <th>2009</th>\n",
       "    </tr>\n",
       "  </thead>\n",
       "  <tbody>\n",
       "    <tr>\n",
       "      <th>SST</th>\n",
       "      <td>299.909117</td>\n",
       "      <td>299.439198</td>\n",
       "      <td>300.754235</td>\n",
       "      <td>300.050932</td>\n",
       "      <td>300.22109</td>\n",
       "      <td>302.458675</td>\n",
       "      <td>300.284525</td>\n",
       "      <td>300.390919</td>\n",
       "      <td>300.644762</td>\n",
       "      <td>300.689389</td>\n",
       "    </tr>\n",
       "  </tbody>\n",
       "</table>\n",
       "</div>"
      ],
      "text/plain": [
       "year        2000        2001        2002        2003       2004        2005  \\\n",
       "SST   299.909117  299.439198  300.754235  300.050932  300.22109  302.458675   \n",
       "\n",
       "year        2006        2007        2008        2009  \n",
       "SST   300.284525  300.390919  300.644762  300.689389  "
      ]
     },
     "execution_count": 108,
     "metadata": {},
     "output_type": "execute_result"
    }
   ],
   "source": [
    "calc_nino('SST.nc').to_dataframe().T"
   ]
  },
  {
   "cell_type": "code",
   "execution_count": 97,
   "metadata": {},
   "outputs": [
    {
     "data": {
      "text/plain": [
       "[<matplotlib.lines.Line2D at 0x1c56238fa10>]"
      ]
     },
     "execution_count": 97,
     "metadata": {},
     "output_type": "execute_result"
    },
    {
     "data": {
      "image/png": "[encoded data removed]",
      "text/plain": [
       "<Figure size 640x480 with 1 Axes>"
      ]
     },
     "metadata": {},
     "output_type": "display_data"
    }
   ],
   "source": [
    "calc_nino('SST.nc').plot()"
   ]
  },
  {
   "cell_type": "code",
   "execution_count": null,
   "metadata": {},
   "outputs": [],
   "source": []
  }
 ],
 "metadata": {
  "kernelspec": {
   "display_name": "pymc_env",
   "language": "python",
   "name": "python3"
  },
  "language_info": {
   "codemirror_mode": {
    "name": "ipython",
    "version": 3
   },
   "file_extension": ".py",
   "mimetype": "text/x-python",
   "name": "python",
   "nbconvert_exporter": "python",
   "pygments_lexer": "ipython3",
   "version": "3.11.7"
  }
 },
 "nbformat": 4,
 "nbformat_minor": 2
}

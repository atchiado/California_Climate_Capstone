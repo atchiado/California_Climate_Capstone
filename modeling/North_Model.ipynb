{
 "cells": [
  {
   "cell_type": "code",
   "execution_count": 1,
   "metadata": {
    "tags": []
   },
   "outputs": [
    {
     "name": "stdout",
     "output_type": "stream",
     "text": [
      "2.2.1+cu121\n"
     ]
    }
   ],
   "source": [
    "import math\n",
    "import h5py\n",
    "import numpy as np \n",
    "import netCDF4 as nc\n",
    "from netCDF4 import Dataset\n",
    "from sklearn.linear_model import LinearRegression\n",
    "import xarray as xr\n",
    "import matplotlib.pyplot as plt\n",
    "import time\n",
    "import pandas as pd\n",
    "import datetime\n",
    "import random\n",
    "import torch.optim as optim\n",
    "\n",
    "import os\n",
    "import torch\n",
    "print(torch.__version__)\n",
    "import torch.nn.functional as F\n",
    "import torch.nn as nn\n",
    "from torch.utils.data import TensorDataset, DataLoader\n",
    "from torch import from_numpy\n",
    "from torch import manual_seed as torch_manual_seed\n",
    "from torch.cuda import max_memory_allocated, set_device, manual_seed_all\n",
    "from torch.backends import cudnn\n",
    "\n",
    "from sklearn.model_selection import train_test_split\n",
    "import matplotlib.pyplot as plt\n",
    "from functools import partial\n",
    "\n",
    "from scipy.signal import detrend\n",
    "import copy\n",
    "import re"
   ]
  },
  {
   "cell_type": "code",
   "execution_count": 2,
   "metadata": {},
   "outputs": [
    {
     "data": {
      "text/html": [
       "<div><svg style=\"position: absolute; width: 0; height: 0; overflow: hidden\">\n",
       "<defs>\n",
       "<symbol id=\"icon-database\" viewBox=\"0 0 32 32\">\n",
       "<path d=\"M16 0c-8.837 0-16 2.239-16 5v4c0 2.761 7.163 5 16 5s16-2.239 16-5v-4c0-2.761-7.163-5-16-5z\"></path>\n",
       "<path d=\"M16 17c-8.837 0-16-2.239-16-5v6c0 2.761 7.163 5 16 5s16-2.239 16-5v-6c0 2.761-7.163 5-16 5z\"></path>\n",
       "<path d=\"M16 26c-8.837 0-16-2.239-16-5v6c0 2.761 7.163 5 16 5s16-2.239 16-5v-6c0 2.761-7.163 5-16 5z\"></path>\n",
       "</symbol>\n",
       "<symbol id=\"icon-file-text2\" viewBox=\"0 0 32 32\">\n",
       "<path d=\"M28.681 7.159c-0.694-0.947-1.662-2.053-2.724-3.116s-2.169-2.030-3.116-2.724c-1.612-1.182-2.393-1.319-2.841-1.319h-15.5c-1.378 0-2.5 1.121-2.5 2.5v27c0 1.378 1.122 2.5 2.5 2.5h23c1.378 0 2.5-1.122 2.5-2.5v-19.5c0-0.448-0.137-1.23-1.319-2.841zM24.543 5.457c0.959 0.959 1.712 1.825 2.268 2.543h-4.811v-4.811c0.718 0.556 1.584 1.309 2.543 2.268zM28 29.5c0 0.271-0.229 0.5-0.5 0.5h-23c-0.271 0-0.5-0.229-0.5-0.5v-27c0-0.271 0.229-0.5 0.5-0.5 0 0 15.499-0 15.5 0v7c0 0.552 0.448 1 1 1h7v19.5z\"></path>\n",
       "<path d=\"M23 26h-14c-0.552 0-1-0.448-1-1s0.448-1 1-1h14c0.552 0 1 0.448 1 1s-0.448 1-1 1z\"></path>\n",
       "<path d=\"M23 22h-14c-0.552 0-1-0.448-1-1s0.448-1 1-1h14c0.552 0 1 0.448 1 1s-0.448 1-1 1z\"></path>\n",
       "<path d=\"M23 18h-14c-0.552 0-1-0.448-1-1s0.448-1 1-1h14c0.552 0 1 0.448 1 1s-0.448 1-1 1z\"></path>\n",
       "</symbol>\n",
       "</defs>\n",
       "</svg>\n",
       "<style>/* CSS stylesheet for displaying xarray objects in jupyterlab.\n",
       " *\n",
       " */\n",
       "\n",
       ":root {\n",
       "  --xr-font-color0: var(--jp-content-font-color0, rgba(0, 0, 0, 1));\n",
       "  --xr-font-color2: var(--jp-content-font-color2, rgba(0, 0, 0, 0.54));\n",
       "  --xr-font-color3: var(--jp-content-font-color3, rgba(0, 0, 0, 0.38));\n",
       "  --xr-border-color: var(--jp-border-color2, #e0e0e0);\n",
       "  --xr-disabled-color: var(--jp-layout-color3, #bdbdbd);\n",
       "  --xr-background-color: var(--jp-layout-color0, white);\n",
       "  --xr-background-color-row-even: var(--jp-layout-color1, white);\n",
       "  --xr-background-color-row-odd: var(--jp-layout-color2, #eeeeee);\n",
       "}\n",
       "\n",
       "html[theme=dark],\n",
       "body[data-theme=dark],\n",
       "body.vscode-dark {\n",
       "  --xr-font-color0: rgba(255, 255, 255, 1);\n",
       "  --xr-font-color2: rgba(255, 255, 255, 0.54);\n",
       "  --xr-font-color3: rgba(255, 255, 255, 0.38);\n",
       "  --xr-border-color: #1F1F1F;\n",
       "  --xr-disabled-color: #515151;\n",
       "  --xr-background-color: #111111;\n",
       "  --xr-background-color-row-even: #111111;\n",
       "  --xr-background-color-row-odd: #313131;\n",
       "}\n",
       "\n",
       ".xr-wrap {\n",
       "  display: block !important;\n",
       "  min-width: 300px;\n",
       "  max-width: 700px;\n",
       "}\n",
       "\n",
       ".xr-text-repr-fallback {\n",
       "  /* fallback to plain text repr when CSS is not injected (untrusted notebook) */\n",
       "  display: none;\n",
       "}\n",
       "\n",
       ".xr-header {\n",
       "  padding-top: 6px;\n",
       "  padding-bottom: 6px;\n",
       "  margin-bottom: 4px;\n",
       "  border-bottom: solid 1px var(--xr-border-color);\n",
       "}\n",
       "\n",
       ".xr-header > div,\n",
       ".xr-header > ul {\n",
       "  display: inline;\n",
       "  margin-top: 0;\n",
       "  margin-bottom: 0;\n",
       "}\n",
       "\n",
       ".xr-obj-type,\n",
       ".xr-array-name {\n",
       "  margin-left: 2px;\n",
       "  margin-right: 10px;\n",
       "}\n",
       "\n",
       ".xr-obj-type {\n",
       "  color: var(--xr-font-color2);\n",
       "}\n",
       "\n",
       ".xr-sections {\n",
       "  padding-left: 0 !important;\n",
       "  display: grid;\n",
       "  grid-template-columns: 150px auto auto 1fr 20px 20px;\n",
       "}\n",
       "\n",
       ".xr-section-item {\n",
       "  display: contents;\n",
       "}\n",
       "\n",
       ".xr-section-item input {\n",
       "  display: none;\n",
       "}\n",
       "\n",
       ".xr-section-item input + label {\n",
       "  color: var(--xr-disabled-color);\n",
       "}\n",
       "\n",
       ".xr-section-item input:enabled + label {\n",
       "  cursor: pointer;\n",
       "  color: var(--xr-font-color2);\n",
       "}\n",
       "\n",
       ".xr-section-item input:enabled + label:hover {\n",
       "  color: var(--xr-font-color0);\n",
       "}\n",
       "\n",
       ".xr-section-summary {\n",
       "  grid-column: 1;\n",
       "  color: var(--xr-font-color2);\n",
       "  font-weight: 500;\n",
       "}\n",
       "\n",
       ".xr-section-summary > span {\n",
       "  display: inline-block;\n",
       "  padding-left: 0.5em;\n",
       "}\n",
       "\n",
       ".xr-section-summary-in:disabled + label {\n",
       "  color: var(--xr-font-color2);\n",
       "}\n",
       "\n",
       ".xr-section-summary-in + label:before {\n",
       "  display: inline-block;\n",
       "  content: '►';\n",
       "  font-size: 11px;\n",
       "  width: 15px;\n",
       "  text-align: center;\n",
       "}\n",
       "\n",
       ".xr-section-summary-in:disabled + label:before {\n",
       "  color: var(--xr-disabled-color);\n",
       "}\n",
       "\n",
       ".xr-section-summary-in:checked + label:before {\n",
       "  content: '▼';\n",
       "}\n",
       "\n",
       ".xr-section-summary-in:checked + label > span {\n",
       "  display: none;\n",
       "}\n",
       "\n",
       ".xr-section-summary,\n",
       ".xr-section-inline-details {\n",
       "  padding-top: 4px;\n",
       "  padding-bottom: 4px;\n",
       "}\n",
       "\n",
       ".xr-section-inline-details {\n",
       "  grid-column: 2 / -1;\n",
       "}\n",
       "\n",
       ".xr-section-details {\n",
       "  display: none;\n",
       "  grid-column: 1 / -1;\n",
       "  margin-bottom: 5px;\n",
       "}\n",
       "\n",
       ".xr-section-summary-in:checked ~ .xr-section-details {\n",
       "  display: contents;\n",
       "}\n",
       "\n",
       ".xr-array-wrap {\n",
       "  grid-column: 1 / -1;\n",
       "  display: grid;\n",
       "  grid-template-columns: 20px auto;\n",
       "}\n",
       "\n",
       ".xr-array-wrap > label {\n",
       "  grid-column: 1;\n",
       "  vertical-align: top;\n",
       "}\n",
       "\n",
       ".xr-preview {\n",
       "  color: var(--xr-font-color3);\n",
       "}\n",
       "\n",
       ".xr-array-preview,\n",
       ".xr-array-data {\n",
       "  padding: 0 5px !important;\n",
       "  grid-column: 2;\n",
       "}\n",
       "\n",
       ".xr-array-data,\n",
       ".xr-array-in:checked ~ .xr-array-preview {\n",
       "  display: none;\n",
       "}\n",
       "\n",
       ".xr-array-in:checked ~ .xr-array-data,\n",
       ".xr-array-preview {\n",
       "  display: inline-block;\n",
       "}\n",
       "\n",
       ".xr-dim-list {\n",
       "  display: inline-block !important;\n",
       "  list-style: none;\n",
       "  padding: 0 !important;\n",
       "  margin: 0;\n",
       "}\n",
       "\n",
       ".xr-dim-list li {\n",
       "  display: inline-block;\n",
       "  padding: 0;\n",
       "  margin: 0;\n",
       "}\n",
       "\n",
       ".xr-dim-list:before {\n",
       "  content: '(';\n",
       "}\n",
       "\n",
       ".xr-dim-list:after {\n",
       "  content: ')';\n",
       "}\n",
       "\n",
       ".xr-dim-list li:not(:last-child):after {\n",
       "  content: ',';\n",
       "  padding-right: 5px;\n",
       "}\n",
       "\n",
       ".xr-has-index {\n",
       "  font-weight: bold;\n",
       "}\n",
       "\n",
       ".xr-var-list,\n",
       ".xr-var-item {\n",
       "  display: contents;\n",
       "}\n",
       "\n",
       ".xr-var-item > div,\n",
       ".xr-var-item label,\n",
       ".xr-var-item > .xr-var-name span {\n",
       "  background-color: var(--xr-background-color-row-even);\n",
       "  margin-bottom: 0;\n",
       "}\n",
       "\n",
       ".xr-var-item > .xr-var-name:hover span {\n",
       "  padding-right: 5px;\n",
       "}\n",
       "\n",
       ".xr-var-list > li:nth-child(odd) > div,\n",
       ".xr-var-list > li:nth-child(odd) > label,\n",
       ".xr-var-list > li:nth-child(odd) > .xr-var-name span {\n",
       "  background-color: var(--xr-background-color-row-odd);\n",
       "}\n",
       "\n",
       ".xr-var-name {\n",
       "  grid-column: 1;\n",
       "}\n",
       "\n",
       ".xr-var-dims {\n",
       "  grid-column: 2;\n",
       "}\n",
       "\n",
       ".xr-var-dtype {\n",
       "  grid-column: 3;\n",
       "  text-align: right;\n",
       "  color: var(--xr-font-color2);\n",
       "}\n",
       "\n",
       ".xr-var-preview {\n",
       "  grid-column: 4;\n",
       "}\n",
       "\n",
       ".xr-index-preview {\n",
       "  grid-column: 2 / 5;\n",
       "  color: var(--xr-font-color2);\n",
       "}\n",
       "\n",
       ".xr-var-name,\n",
       ".xr-var-dims,\n",
       ".xr-var-dtype,\n",
       ".xr-preview,\n",
       ".xr-attrs dt {\n",
       "  white-space: nowrap;\n",
       "  overflow: hidden;\n",
       "  text-overflow: ellipsis;\n",
       "  padding-right: 10px;\n",
       "}\n",
       "\n",
       ".xr-var-name:hover,\n",
       ".xr-var-dims:hover,\n",
       ".xr-var-dtype:hover,\n",
       ".xr-attrs dt:hover {\n",
       "  overflow: visible;\n",
       "  width: auto;\n",
       "  z-index: 1;\n",
       "}\n",
       "\n",
       ".xr-var-attrs,\n",
       ".xr-var-data,\n",
       ".xr-index-data {\n",
       "  display: none;\n",
       "  background-color: var(--xr-background-color) !important;\n",
       "  padding-bottom: 5px !important;\n",
       "}\n",
       "\n",
       ".xr-var-attrs-in:checked ~ .xr-var-attrs,\n",
       ".xr-var-data-in:checked ~ .xr-var-data,\n",
       ".xr-index-data-in:checked ~ .xr-index-data {\n",
       "  display: block;\n",
       "}\n",
       "\n",
       ".xr-var-data > table {\n",
       "  float: right;\n",
       "}\n",
       "\n",
       ".xr-var-name span,\n",
       ".xr-var-data,\n",
       ".xr-index-name div,\n",
       ".xr-index-data,\n",
       ".xr-attrs {\n",
       "  padding-left: 25px !important;\n",
       "}\n",
       "\n",
       ".xr-attrs,\n",
       ".xr-var-attrs,\n",
       ".xr-var-data,\n",
       ".xr-index-data {\n",
       "  grid-column: 1 / -1;\n",
       "}\n",
       "\n",
       "dl.xr-attrs {\n",
       "  padding: 0;\n",
       "  margin: 0;\n",
       "  display: grid;\n",
       "  grid-template-columns: 125px auto;\n",
       "}\n",
       "\n",
       ".xr-attrs dt,\n",
       ".xr-attrs dd {\n",
       "  padding: 0;\n",
       "  margin: 0;\n",
       "  float: left;\n",
       "  padding-right: 10px;\n",
       "  width: auto;\n",
       "}\n",
       "\n",
       ".xr-attrs dt {\n",
       "  font-weight: normal;\n",
       "  grid-column: 1;\n",
       "}\n",
       "\n",
       ".xr-attrs dt:hover span {\n",
       "  display: inline-block;\n",
       "  background: var(--xr-background-color);\n",
       "  padding-right: 10px;\n",
       "}\n",
       "\n",
       ".xr-attrs dd {\n",
       "  grid-column: 2;\n",
       "  white-space: pre-wrap;\n",
       "  word-break: break-all;\n",
       "}\n",
       "\n",
       ".xr-icon-database,\n",
       ".xr-icon-file-text2,\n",
       ".xr-no-icon {\n",
       "  display: inline-block;\n",
       "  vertical-align: middle;\n",
       "  width: 1em;\n",
       "  height: 1.5em !important;\n",
       "  stroke-width: 0;\n",
       "  stroke: currentColor;\n",
       "  fill: currentColor;\n",
       "}\n",
       "</style><pre class='xr-text-repr-fallback'>&lt;xarray.Dataset&gt; Size: 2GB\n",
       "Dimensions:  (lat: 192, lon: 288, time: 7400)\n",
       "Coordinates:\n",
       "  * lat      (lat) float64 2kB -90.0 -89.06 -88.12 -87.17 ... 88.12 89.06 90.0\n",
       "  * lon      (lon) float64 2kB 0.0 1.25 2.5 3.75 5.0 ... 355.0 356.2 357.5 358.8\n",
       "  * time     (time) int64 59kB 0 366 731 1096 1461 ... 25568 25933 26298 26664\n",
       "Data variables:\n",
       "    SST      (time, lat, lon) float32 2GB ...</pre><div class='xr-wrap' style='display:none'><div class='xr-header'><div class='xr-obj-type'>xarray.Dataset</div></div><ul class='xr-sections'><li class='xr-section-item'><input id='section-99d22261-b690-49b7-8f26-29860f88553f' class='xr-section-summary-in' type='checkbox' disabled ><label for='section-99d22261-b690-49b7-8f26-29860f88553f' class='xr-section-summary'  title='Expand/collapse section'>Dimensions:</label><div class='xr-section-inline-details'><ul class='xr-dim-list'><li><span class='xr-has-index'>lat</span>: 192</li><li><span class='xr-has-index'>lon</span>: 288</li><li><span class='xr-has-index'>time</span>: 7400</li></ul></div><div class='xr-section-details'></div></li><li class='xr-section-item'><input id='section-300b68ce-1c2f-4746-83c0-45680a6a0d4b' class='xr-section-summary-in' type='checkbox'  checked><label for='section-300b68ce-1c2f-4746-83c0-45680a6a0d4b' class='xr-section-summary' >Coordinates: <span>(3)</span></label><div class='xr-section-inline-details'></div><div class='xr-section-details'><ul class='xr-var-list'><li class='xr-var-item'><div class='xr-var-name'><span class='xr-has-index'>lat</span></div><div class='xr-var-dims'>(lat)</div><div class='xr-var-dtype'>float64</div><div class='xr-var-preview xr-preview'>-90.0 -89.06 -88.12 ... 89.06 90.0</div><input id='attrs-7e1ab380-db4c-4004-b351-b972418bd1ca' class='xr-var-attrs-in' type='checkbox' ><label for='attrs-7e1ab380-db4c-4004-b351-b972418bd1ca' title='Show/Hide attributes'><svg class='icon xr-icon-file-text2'><use xlink:href='#icon-file-text2'></use></svg></label><input id='data-325d0fa0-830f-40fb-97ed-15888b4fa19c' class='xr-var-data-in' type='checkbox'><label for='data-325d0fa0-830f-40fb-97ed-15888b4fa19c' title='Show/Hide data repr'><svg class='icon xr-icon-database'><use xlink:href='#icon-database'></use></svg></label><div class='xr-var-attrs'><dl class='xr-attrs'><dt><span>long_name :</span></dt><dd>latitude</dd><dt><span>units :</span></dt><dd>degrees_north</dd></dl></div><div class='xr-var-data'><pre>array([-90.      , -89.057592, -88.115183, -87.172775, -86.230366, -85.287958,\n",
       "       -84.34555 , -83.403141, -82.460733, -81.518325, -80.575916, -79.633508,\n",
       "       -78.691099, -77.748691, -76.806283, -75.863874, -74.921466, -73.979058,\n",
       "       -73.036649, -72.094241, -71.151832, -70.209424, -69.267016, -68.324607,\n",
       "       -67.382199, -66.439791, -65.497382, -64.554974, -63.612565, -62.670157,\n",
       "       -61.727749, -60.78534 , -59.842932, -58.900524, -57.958115, -57.015707,\n",
       "       -56.073298, -55.13089 , -54.188482, -53.246073, -52.303665, -51.361257,\n",
       "       -50.418848, -49.47644 , -48.534031, -47.591623, -46.649215, -45.706806,\n",
       "       -44.764398, -43.82199 , -42.879581, -41.937173, -40.994764, -40.052356,\n",
       "       -39.109948, -38.167539, -37.225131, -36.282723, -35.340314, -34.397906,\n",
       "       -33.455497, -32.513089, -31.570681, -30.628272, -29.685864, -28.743455,\n",
       "       -27.801047, -26.858639, -25.91623 , -24.973822, -24.031414, -23.089005,\n",
       "       -22.146597, -21.204188, -20.26178 , -19.319372, -18.376963, -17.434555,\n",
       "       -16.492147, -15.549738, -14.60733 , -13.664921, -12.722513, -11.780105,\n",
       "       -10.837696,  -9.895288,  -8.95288 ,  -8.010471,  -7.068063,  -6.125654,\n",
       "        -5.183246,  -4.240838,  -3.298429,  -2.356021,  -1.413613,  -0.471204,\n",
       "         0.471204,   1.413613,   2.356021,   3.298429,   4.240838,   5.183246,\n",
       "         6.125654,   7.068063,   8.010471,   8.95288 ,   9.895288,  10.837696,\n",
       "        11.780105,  12.722513,  13.664921,  14.60733 ,  15.549738,  16.492147,\n",
       "        17.434555,  18.376963,  19.319372,  20.26178 ,  21.204188,  22.146597,\n",
       "        23.089005,  24.031414,  24.973822,  25.91623 ,  26.858639,  27.801047,\n",
       "        28.743455,  29.685864,  30.628272,  31.570681,  32.513089,  33.455497,\n",
       "        34.397906,  35.340314,  36.282723,  37.225131,  38.167539,  39.109948,\n",
       "        40.052356,  40.994764,  41.937173,  42.879581,  43.82199 ,  44.764398,\n",
       "        45.706806,  46.649215,  47.591623,  48.534031,  49.47644 ,  50.418848,\n",
       "        51.361257,  52.303665,  53.246073,  54.188482,  55.13089 ,  56.073298,\n",
       "        57.015707,  57.958115,  58.900524,  59.842932,  60.78534 ,  61.727749,\n",
       "        62.670157,  63.612565,  64.554974,  65.497382,  66.439791,  67.382199,\n",
       "        68.324607,  69.267016,  70.209424,  71.151832,  72.094241,  73.036649,\n",
       "        73.979058,  74.921466,  75.863874,  76.806283,  77.748691,  78.691099,\n",
       "        79.633508,  80.575916,  81.518325,  82.460733,  83.403141,  84.34555 ,\n",
       "        85.287958,  86.230366,  87.172775,  88.115183,  89.057592,  90.      ])</pre></div></li><li class='xr-var-item'><div class='xr-var-name'><span class='xr-has-index'>lon</span></div><div class='xr-var-dims'>(lon)</div><div class='xr-var-dtype'>float64</div><div class='xr-var-preview xr-preview'>0.0 1.25 2.5 ... 356.2 357.5 358.8</div><input id='attrs-439094a7-ea4b-4b38-9d7a-a2dc30d12f3f' class='xr-var-attrs-in' type='checkbox' ><label for='attrs-439094a7-ea4b-4b38-9d7a-a2dc30d12f3f' title='Show/Hide attributes'><svg class='icon xr-icon-file-text2'><use xlink:href='#icon-file-text2'></use></svg></label><input id='data-e5813629-925b-4379-8da1-09ad2b5c2a74' class='xr-var-data-in' type='checkbox'><label for='data-e5813629-925b-4379-8da1-09ad2b5c2a74' title='Show/Hide data repr'><svg class='icon xr-icon-database'><use xlink:href='#icon-database'></use></svg></label><div class='xr-var-attrs'><dl class='xr-attrs'><dt><span>long_name :</span></dt><dd>longitude</dd><dt><span>units :</span></dt><dd>degrees_east</dd></dl></div><div class='xr-var-data'><pre>array([  0.  ,   1.25,   2.5 , ..., 356.25, 357.5 , 358.75])</pre></div></li><li class='xr-var-item'><div class='xr-var-name'><span class='xr-has-index'>time</span></div><div class='xr-var-dims'>(time)</div><div class='xr-var-dtype'>int64</div><div class='xr-var-preview xr-preview'>0 366 731 ... 25933 26298 26664</div><input id='attrs-843afde1-3703-4d49-8f98-5279e4a46671' class='xr-var-attrs-in' type='checkbox' ><label for='attrs-843afde1-3703-4d49-8f98-5279e4a46671' title='Show/Hide attributes'><svg class='icon xr-icon-file-text2'><use xlink:href='#icon-file-text2'></use></svg></label><input id='data-2fd7e8c5-1fed-432a-83c7-b339519fea00' class='xr-var-data-in' type='checkbox'><label for='data-2fd7e8c5-1fed-432a-83c7-b339519fea00' title='Show/Hide data repr'><svg class='icon xr-icon-database'><use xlink:href='#icon-database'></use></svg></label><div class='xr-var-attrs'><dl class='xr-attrs'><dt><span>units :</span></dt><dd>days since 1940-01-01 00:00:00</dd><dt><span>calendar :</span></dt><dd>proleptic_gregorian</dd></dl></div><div class='xr-var-data'><pre>array([    0,   366,   731, ..., 25933, 26298, 26664])</pre></div></li></ul></div></li><li class='xr-section-item'><input id='section-8870e2ad-89b6-4112-b7ae-b6be61757917' class='xr-section-summary-in' type='checkbox'  checked><label for='section-8870e2ad-89b6-4112-b7ae-b6be61757917' class='xr-section-summary' >Data variables: <span>(1)</span></label><div class='xr-section-inline-details'></div><div class='xr-section-details'><ul class='xr-var-list'><li class='xr-var-item'><div class='xr-var-name'><span>SST</span></div><div class='xr-var-dims'>(time, lat, lon)</div><div class='xr-var-dtype'>float32</div><div class='xr-var-preview xr-preview'>...</div><input id='attrs-e53c42ec-6bc5-4c34-8122-92899d49d93b' class='xr-var-attrs-in' type='checkbox' ><label for='attrs-e53c42ec-6bc5-4c34-8122-92899d49d93b' title='Show/Hide attributes'><svg class='icon xr-icon-file-text2'><use xlink:href='#icon-file-text2'></use></svg></label><input id='data-cdf03aac-2e8b-4bd0-881f-0beb0894eaec' class='xr-var-data-in' type='checkbox'><label for='data-cdf03aac-2e8b-4bd0-881f-0beb0894eaec' title='Show/Hide data repr'><svg class='icon xr-icon-database'><use xlink:href='#icon-database'></use></svg></label><div class='xr-var-attrs'><dl class='xr-attrs'><dt><span>units :</span></dt><dd>K</dd><dt><span>long_name :</span></dt><dd>sea surface temperature</dd><dt><span>cell_methods :</span></dt><dd>time: mean</dd></dl></div><div class='xr-var-data'><pre>[409190400 values with dtype=float32]</pre></div></li></ul></div></li><li class='xr-section-item'><input id='section-9056b2f4-ef35-4eea-bde1-03bfb07a2d88' class='xr-section-summary-in' type='checkbox'  ><label for='section-9056b2f4-ef35-4eea-bde1-03bfb07a2d88' class='xr-section-summary' >Indexes: <span>(3)</span></label><div class='xr-section-inline-details'></div><div class='xr-section-details'><ul class='xr-var-list'><li class='xr-var-item'><div class='xr-index-name'><div>lat</div></div><div class='xr-index-preview'>PandasIndex</div><div></div><input id='index-d3f67485-b8f2-459e-93c6-0ccf9ce1230c' class='xr-index-data-in' type='checkbox'/><label for='index-d3f67485-b8f2-459e-93c6-0ccf9ce1230c' title='Show/Hide index repr'><svg class='icon xr-icon-database'><use xlink:href='#icon-database'></use></svg></label><div class='xr-index-data'><pre>PandasIndex(Index([             -90.0, -89.05759162303664,  -88.1151832460733,\n",
       "       -87.17277486910994,  -86.2303664921466, -85.28795811518324,\n",
       "        -84.3455497382199, -83.40314136125654, -82.46073298429319,\n",
       "       -81.51832460732984,\n",
       "       ...\n",
       "        81.51832460732984,  82.46073298429319,  83.40314136125654,\n",
       "         84.3455497382199,  85.28795811518324,   86.2303664921466,\n",
       "        87.17277486910994,   88.1151832460733,  89.05759162303664,\n",
       "                     90.0],\n",
       "      dtype=&#x27;float64&#x27;, name=&#x27;lat&#x27;, length=192))</pre></div></li><li class='xr-var-item'><div class='xr-index-name'><div>lon</div></div><div class='xr-index-preview'>PandasIndex</div><div></div><input id='index-53c9a029-db6d-43a9-92a1-d7ed198cddc0' class='xr-index-data-in' type='checkbox'/><label for='index-53c9a029-db6d-43a9-92a1-d7ed198cddc0' title='Show/Hide index repr'><svg class='icon xr-icon-database'><use xlink:href='#icon-database'></use></svg></label><div class='xr-index-data'><pre>PandasIndex(Index([   0.0,   1.25,    2.5,   3.75,    5.0,   6.25,    7.5,   8.75,   10.0,\n",
       "        11.25,\n",
       "       ...\n",
       "        347.5, 348.75,  350.0, 351.25,  352.5, 353.75,  355.0, 356.25,  357.5,\n",
       "       358.75],\n",
       "      dtype=&#x27;float64&#x27;, name=&#x27;lon&#x27;, length=288))</pre></div></li><li class='xr-var-item'><div class='xr-index-name'><div>time</div></div><div class='xr-index-preview'>PandasIndex</div><div></div><input id='index-93d2e669-86ab-4d6f-9a74-2ae403557525' class='xr-index-data-in' type='checkbox'/><label for='index-93d2e669-86ab-4d6f-9a74-2ae403557525' title='Show/Hide index repr'><svg class='icon xr-icon-database'><use xlink:href='#icon-database'></use></svg></label><div class='xr-index-data'><pre>PandasIndex(Index([    0,   366,   731,  1096,  1461,  1827,  2192,  2557,  2922,  3288,\n",
       "       ...\n",
       "       23376, 23742, 24107, 24472, 24837, 25203, 25568, 25933, 26298, 26664],\n",
       "      dtype=&#x27;int64&#x27;, name=&#x27;time&#x27;, length=7400))</pre></div></li></ul></div></li><li class='xr-section-item'><input id='section-e2e95ded-ac3b-4395-8df7-01574126985b' class='xr-section-summary-in' type='checkbox' disabled ><label for='section-e2e95ded-ac3b-4395-8df7-01574126985b' class='xr-section-summary'  title='Expand/collapse section'>Attributes: <span>(0)</span></label><div class='xr-section-inline-details'></div><div class='xr-section-details'><dl class='xr-attrs'></dl></div></li></ul></div></div>"
      ],
      "text/plain": [
       "<xarray.Dataset> Size: 2GB\n",
       "Dimensions:  (lat: 192, lon: 288, time: 7400)\n",
       "Coordinates:\n",
       "  * lat      (lat) float64 2kB -90.0 -89.06 -88.12 -87.17 ... 88.12 89.06 90.0\n",
       "  * lon      (lon) float64 2kB 0.0 1.25 2.5 3.75 5.0 ... 355.0 356.2 357.5 358.8\n",
       "  * time     (time) int64 59kB 0 366 731 1096 1461 ... 25568 25933 26298 26664\n",
       "Data variables:\n",
       "    SST      (time, lat, lon) float32 2GB ..."
      ]
     },
     "execution_count": 2,
     "metadata": {},
     "output_type": "execute_result"
    }
   ],
   "source": [
    "ds2 = xr.open_dataset(\"Detrended_SST.nc\", decode_times=False)\n",
    "ds2"
   ]
  },
  {
   "cell_type": "code",
   "execution_count": 3,
   "metadata": {},
   "outputs": [
    {
     "data": {
      "text/html": [
       "<div>\n",
       "<style scoped>\n",
       "    .dataframe tbody tr th:only-of-type {\n",
       "        vertical-align: middle;\n",
       "    }\n",
       "\n",
       "    .dataframe tbody tr th {\n",
       "        vertical-align: top;\n",
       "    }\n",
       "\n",
       "    .dataframe thead th {\n",
       "        text-align: right;\n",
       "    }\n",
       "</style>\n",
       "<table border=\"1\" class=\"dataframe\">\n",
       "  <thead>\n",
       "    <tr style=\"text-align: right;\">\n",
       "      <th></th>\n",
       "      <th></th>\n",
       "      <th></th>\n",
       "      <th>PRECT</th>\n",
       "    </tr>\n",
       "    <tr>\n",
       "      <th>simulation</th>\n",
       "      <th>year</th>\n",
       "      <th>region</th>\n",
       "      <th></th>\n",
       "    </tr>\n",
       "  </thead>\n",
       "  <tbody>\n",
       "    <tr>\n",
       "      <th rowspan=\"5\" valign=\"top\">1001.001</th>\n",
       "      <th rowspan=\"3\" valign=\"top\">1940</th>\n",
       "      <th>Central</th>\n",
       "      <td>1.696816</td>\n",
       "    </tr>\n",
       "    <tr>\n",
       "      <th>North</th>\n",
       "      <td>-4.384861</td>\n",
       "    </tr>\n",
       "    <tr>\n",
       "      <th>South</th>\n",
       "      <td>2.359652</td>\n",
       "    </tr>\n",
       "    <tr>\n",
       "      <th rowspan=\"2\" valign=\"top\">1941</th>\n",
       "      <th>Central</th>\n",
       "      <td>7.414276</td>\n",
       "    </tr>\n",
       "    <tr>\n",
       "      <th>North</th>\n",
       "      <td>15.164542</td>\n",
       "    </tr>\n",
       "  </tbody>\n",
       "</table>\n",
       "</div>"
      ],
      "text/plain": [
       "                             PRECT\n",
       "simulation year region            \n",
       "1001.001   1940 Central   1.696816\n",
       "                North    -4.384861\n",
       "                South     2.359652\n",
       "           1941 Central   7.414276\n",
       "                North    15.164542"
      ]
     },
     "execution_count": 3,
     "metadata": {},
     "output_type": "execute_result"
    }
   ],
   "source": [
    "PRECT = pd.read_csv('Detrended_PRECT_reordered.csv')\n",
    "PRECT = PRECT.set_index(['simulation', 'year', 'region'])\n",
    "PRECT.head()"
   ]
  },
  {
   "cell_type": "code",
   "execution_count": 4,
   "metadata": {},
   "outputs": [
    {
     "data": {
      "text/html": [
       "<div>\n",
       "<style scoped>\n",
       "    .dataframe tbody tr th:only-of-type {\n",
       "        vertical-align: middle;\n",
       "    }\n",
       "\n",
       "    .dataframe tbody tr th {\n",
       "        vertical-align: top;\n",
       "    }\n",
       "\n",
       "    .dataframe thead th {\n",
       "        text-align: right;\n",
       "    }\n",
       "</style>\n",
       "<table border=\"1\" class=\"dataframe\">\n",
       "  <thead>\n",
       "    <tr style=\"text-align: right;\">\n",
       "      <th></th>\n",
       "      <th>Sim</th>\n",
       "      <th>year</th>\n",
       "      <th>Average_SST</th>\n",
       "    </tr>\n",
       "  </thead>\n",
       "  <tbody>\n",
       "    <tr>\n",
       "      <th>0</th>\n",
       "      <td>1001.001</td>\n",
       "      <td>1940</td>\n",
       "      <td>0.327026</td>\n",
       "    </tr>\n",
       "    <tr>\n",
       "      <th>1</th>\n",
       "      <td>1001.001</td>\n",
       "      <td>1941</td>\n",
       "      <td>0.051076</td>\n",
       "    </tr>\n",
       "    <tr>\n",
       "      <th>2</th>\n",
       "      <td>1001.001</td>\n",
       "      <td>1942</td>\n",
       "      <td>1.970464</td>\n",
       "    </tr>\n",
       "    <tr>\n",
       "      <th>3</th>\n",
       "      <td>1001.001</td>\n",
       "      <td>1943</td>\n",
       "      <td>-1.860101</td>\n",
       "    </tr>\n",
       "    <tr>\n",
       "      <th>4</th>\n",
       "      <td>1001.001</td>\n",
       "      <td>1944</td>\n",
       "      <td>-0.306490</td>\n",
       "    </tr>\n",
       "    <tr>\n",
       "      <th>...</th>\n",
       "      <td>...</td>\n",
       "      <td>...</td>\n",
       "      <td>...</td>\n",
       "    </tr>\n",
       "    <tr>\n",
       "      <th>7395</th>\n",
       "      <td>1301.020</td>\n",
       "      <td>2009</td>\n",
       "      <td>0.654142</td>\n",
       "    </tr>\n",
       "    <tr>\n",
       "      <th>7396</th>\n",
       "      <td>1301.020</td>\n",
       "      <td>2010</td>\n",
       "      <td>1.566384</td>\n",
       "    </tr>\n",
       "    <tr>\n",
       "      <th>7397</th>\n",
       "      <td>1301.020</td>\n",
       "      <td>2011</td>\n",
       "      <td>-1.912347</td>\n",
       "    </tr>\n",
       "    <tr>\n",
       "      <th>7398</th>\n",
       "      <td>1301.020</td>\n",
       "      <td>2012</td>\n",
       "      <td>-0.929525</td>\n",
       "    </tr>\n",
       "    <tr>\n",
       "      <th>7399</th>\n",
       "      <td>1301.020</td>\n",
       "      <td>2013</td>\n",
       "      <td>0.336076</td>\n",
       "    </tr>\n",
       "  </tbody>\n",
       "</table>\n",
       "<p>7400 rows × 3 columns</p>\n",
       "</div>"
      ],
      "text/plain": [
       "           Sim  year  Average_SST\n",
       "0     1001.001  1940     0.327026\n",
       "1     1001.001  1941     0.051076\n",
       "2     1001.001  1942     1.970464\n",
       "3     1001.001  1943    -1.860101\n",
       "4     1001.001  1944    -0.306490\n",
       "...        ...   ...          ...\n",
       "7395  1301.020  2009     0.654142\n",
       "7396  1301.020  2010     1.566384\n",
       "7397  1301.020  2011    -1.912347\n",
       "7398  1301.020  2012    -0.929525\n",
       "7399  1301.020  2013     0.336076\n",
       "\n",
       "[7400 rows x 3 columns]"
      ]
     },
     "execution_count": 4,
     "metadata": {},
     "output_type": "execute_result"
    }
   ],
   "source": [
    "nino = pd.read_csv(\"Detrended_Nino.csv\")\n",
    "nino"
   ]
  },
  {
   "cell_type": "markdown",
   "metadata": {},
   "source": [
    "# Modeling"
   ]
  },
  {
   "cell_type": "markdown",
   "metadata": {},
   "source": [
    "### Data Prep"
   ]
  },
  {
   "cell_type": "code",
   "execution_count": 5,
   "metadata": {
    "tags": []
   },
   "outputs": [
    {
     "data": {
      "text/plain": [
       "(22200,)"
      ]
     },
     "execution_count": 5,
     "metadata": {},
     "output_type": "execute_result"
    }
   ],
   "source": [
    "y = PRECT['PRECT'].to_numpy()\n",
    "y.shape"
   ]
  },
  {
   "cell_type": "code",
   "execution_count": 6,
   "metadata": {
    "tags": []
   },
   "outputs": [
    {
     "data": {
      "text/plain": [
       "(7400,)"
      ]
     },
     "execution_count": 6,
     "metadata": {},
     "output_type": "execute_result"
    }
   ],
   "source": [
    "y = y.reshape(-1, 3)\n",
    "y = y[:, 1]\n",
    "y.shape"
   ]
  },
  {
   "cell_type": "code",
   "execution_count": 7,
   "metadata": {
    "tags": []
   },
   "outputs": [
    {
     "data": {
      "text/plain": [
       "(100, 74, 1)"
      ]
     },
     "execution_count": 7,
     "metadata": {},
     "output_type": "execute_result"
    }
   ],
   "source": [
    "y_reshaped = y.reshape(100, 74, 1)\n",
    "y_reshaped.shape"
   ]
  },
  {
   "cell_type": "code",
   "execution_count": 8,
   "metadata": {
    "tags": []
   },
   "outputs": [
    {
     "data": {
      "text/plain": [
       "(7400, 192, 288)"
      ]
     },
     "execution_count": 8,
     "metadata": {},
     "output_type": "execute_result"
    }
   ],
   "source": [
    "X = ds2['SST'].to_numpy()\n",
    "X.shape"
   ]
  },
  {
   "cell_type": "code",
   "execution_count": 9,
   "metadata": {
    "tags": []
   },
   "outputs": [
    {
     "data": {
      "text/plain": [
       "(100, 74, 192, 288)"
      ]
     },
     "execution_count": 9,
     "metadata": {},
     "output_type": "execute_result"
    }
   ],
   "source": [
    "X_reshaped = X.reshape(100, 74, 192, 288)\n",
    "X_reshaped.shape"
   ]
  },
  {
   "cell_type": "code",
   "execution_count": 10,
   "metadata": {
    "tags": []
   },
   "outputs": [
    {
     "data": {
      "text/plain": [
       "(100, 74, 1)"
      ]
     },
     "execution_count": 10,
     "metadata": {},
     "output_type": "execute_result"
    }
   ],
   "source": [
    "Nino = nino['Average_SST'].to_numpy()\n",
    "Nino_reshaped = Nino.reshape(100, 74, 1)\n",
    "Nino_reshaped.shape"
   ]
  },
  {
   "cell_type": "code",
   "execution_count": 11,
   "metadata": {
    "tags": []
   },
   "outputs": [],
   "source": [
    "def setup_seed(seed):\n",
    "    torch_manual_seed(seed)\n",
    "    manual_seed_all(seed)\n",
    "    np.random.seed(seed)\n",
    "    random.seed(seed)\n",
    "    cudnn.deterministic = True\n",
    "\n",
    "SEED = 42\n",
    "setup_seed(SEED)"
   ]
  },
  {
   "cell_type": "code",
   "execution_count": 12,
   "metadata": {
    "tags": []
   },
   "outputs": [],
   "source": [
    "X_train_full, X_test, y_train_full, y_test = train_test_split(X_reshaped, y_reshaped, test_size=0.1, random_state=49)\n",
    "X_train, X_val, y_train, y_val = train_test_split(X_train_full, y_train_full, test_size=.1/.9, random_state=49)"
   ]
  },
  {
   "cell_type": "code",
   "execution_count": 13,
   "metadata": {
    "tags": []
   },
   "outputs": [],
   "source": [
    "Nino_train_full, Nino_test = train_test_split(Nino_reshaped, test_size = 0.1, random_state = 49)\n",
    "Nino_train, Nino_val = train_test_split(Nino_train_full, test_size=.1/.9, random_state=49)"
   ]
  },
  {
   "cell_type": "code",
   "execution_count": 15,
   "metadata": {
    "tags": []
   },
   "outputs": [],
   "source": [
    "X_train = from_numpy(X_train).float()\n",
    "y_train = from_numpy(y_train).float()\n",
    "X_val = from_numpy(X_val).float()\n",
    "y_val = from_numpy(y_val).float()\n",
    "X_test = from_numpy(X_test).float()\n",
    "y_test = from_numpy(y_test).float()"
   ]
  },
  {
   "cell_type": "code",
   "execution_count": 16,
   "metadata": {
    "tags": []
   },
   "outputs": [
    {
     "name": "stdout",
     "output_type": "stream",
     "text": [
      "torch.Size([5920, 192, 288])\n",
      "torch.Size([740, 192, 288])\n",
      "torch.Size([740, 192, 288])\n",
      "torch.Size([5920, 1])\n",
      "torch.Size([740, 1])\n",
      "torch.Size([740, 1])\n"
     ]
    }
   ],
   "source": [
    "#Create Dataloader Objects for PyTorch\n",
    "BATCH_SIZE = 32\n",
    "\n",
    "X_train = X_train.view(-1, 192, 288)\n",
    "X_test = X_test.view(-1, 192, 288)\n",
    "X_val = X_val.view(-1, 192, 288)\n",
    "y_train = y_train.view(-1, 1)\n",
    "y_test = y_test.view(-1, 1)\n",
    "y_val = y_val.view(-1, 1)\n",
    "\n",
    "dataset_train = TensorDataset(X_train, y_train)\n",
    "dataloader_train = DataLoader(dataset_train, batch_size=BATCH_SIZE, shuffle=True)\n",
    "\n",
    "dataset_valid = TensorDataset(X_val, y_val)\n",
    "dataloader_valid = DataLoader(dataset_valid, batch_size=BATCH_SIZE, shuffle=False)\n",
    "\n",
    "dataset_test = TensorDataset(X_test, y_test)\n",
    "dataloader_test = DataLoader(dataset_test, batch_size=BATCH_SIZE, shuffle=False)\n",
    "\n",
    "#Check shape of resulting objects\n",
    "print(X_train.shape)\n",
    "print(X_test.shape)\n",
    "print(X_val.shape)\n",
    "print(y_train.shape)\n",
    "print(y_test.shape)\n",
    "print(y_val.shape)"
   ]
  },
  {
   "cell_type": "code",
   "execution_count": 17,
   "metadata": {
    "tags": []
   },
   "outputs": [
    {
     "name": "stdout",
     "output_type": "stream",
     "text": [
      "torch.Size([32, 192, 288])\n"
     ]
    }
   ],
   "source": [
    "for batch in dataloader_train:\n",
    "    predictor_batch, target_batch = batch\n",
    "    print(predictor_batch.shape)\n",
    "    break"
   ]
  },
  {
   "cell_type": "markdown",
   "metadata": {},
   "source": [
    "### Build CNN"
   ]
  },
  {
   "cell_type": "code",
   "execution_count": 19,
   "metadata": {
    "tags": []
   },
   "outputs": [],
   "source": [
    "class Net(nn.Module):\n",
    "    def __init__(self, p):\n",
    "        super(Net, self).__init__()\n",
    "        self.p = p\n",
    "        self.conv1 = nn.Conv2d(1, 64, stride = (2,2), kernel_size=3, padding=1)\n",
    "        self.conv2 = nn.Conv2d(64, 32, stride = (2,2), kernel_size=3, padding=1)\n",
    "        self.conv3 = nn.Conv2d(32, 16, kernel_size=3, padding=1)\n",
    "        self.pool = nn.MaxPool2d(2, 2)\n",
    "        self.fc1 = nn.Linear(16 * 6 * 9, 64)\n",
    "        self.fc2 = nn.Linear(64, 32)\n",
    "        self.fc3 = nn.Linear(32, 1)  # 1 output value\n",
    "        self.dropout2d = nn.Dropout2d(p = self.p)\n",
    "        self.dropout = nn.Dropout(p = self.p)\n",
    "\n",
    "    def forward(self, x):\n",
    "        x = self.pool(torch.relu(self.conv1(x)))\n",
    "        x = self.dropout2d(x)\n",
    "        x = self.pool(torch.relu(self.conv2(x)))\n",
    "        x = self.dropout2d(x)\n",
    "        x = self.pool(torch.relu(self.conv3(x)))\n",
    "        x = x.view(-1, 16 * 6 * 9)\n",
    "        x = torch.relu(self.fc1(x))\n",
    "        x = self.dropout(x)\n",
    "        x = torch.relu(self.fc2(x))\n",
    "        x = self.fc3(x)\n",
    "        return x\n",
    "    \n",
    "model = Net(0.3)"
   ]
  },
  {
   "cell_type": "code",
   "execution_count": 20,
   "metadata": {
    "tags": []
   },
   "outputs": [
    {
     "data": {
      "text/plain": [
       "81201"
      ]
     },
     "execution_count": 20,
     "metadata": {},
     "output_type": "execute_result"
    }
   ],
   "source": [
    "pytorch_total_params = sum(p.numel() for p in model.parameters() if p.requires_grad)\n",
    "pytorch_total_params"
   ]
  },
  {
   "cell_type": "markdown",
   "metadata": {},
   "source": [
    "### Train CNN to search for best lr and p"
   ]
  },
  {
   "cell_type": "code",
   "execution_count": 21,
   "metadata": {
    "tags": []
   },
   "outputs": [],
   "source": [
    "train_losses = []\n",
    "valid_losses = []\n",
    "\n",
    "def train_loop(dataloader, model, loss_fn, optimizer):\n",
    "    size = len(dataloader.dataset)\n",
    "    # Set the model to training mode - important for batch normalization and dropout layers\n",
    "    # Unnecessary in this situation but added for best practices\n",
    "    model.train()\n",
    "    epoch_loss = 0  # Initialize epoch loss\n",
    "    num_batches = len(dataloader)\n",
    "    for batch, (X, y) in enumerate(dataloader):\n",
    "        X = X.unsqueeze(1)\n",
    "        #X = X.to(device_cuda, non_blocking=True)\n",
    "        #y = y.to(device_cuda, non_blocking=True)\n",
    "        # Compute prediction and loss\n",
    "        pred = model(X)\n",
    "\n",
    "        loss = loss_fn(pred, y)\n",
    "\n",
    "        # Backpropagation\n",
    "        loss.backward()\n",
    "        optimizer.step()\n",
    "        optimizer.zero_grad()\n",
    "        epoch_loss += loss.item()\n",
    "\n",
    "        if batch % 36 == 0:\n",
    "            loss, current = loss.item(), batch * BATCH_SIZE + len(X)\n",
    "            print(f\"loss: {loss:>7f}  [{current:>5d}/{size:>5d}]\")\n",
    "    \n",
    "    epoch_avg_loss = epoch_loss / num_batches\n",
    "    train_losses.append(epoch_avg_loss)\n",
    "\n",
    "def test_valid_loop(dataloader, model, loss_fn, valid = True):\n",
    "    # Set the model to evaluation mode - important for batch normalization and dropout layers\n",
    "    # Unnecessary in this situation but added for best practices\n",
    "    model.eval()\n",
    "    size = len(dataloader.dataset)\n",
    "    num_batches = len(dataloader)\n",
    "    test_loss, correct = 0, 0\n",
    "\n",
    "    # Evaluating the model with torch.no_grad() ensures that no gradients are computed during test mode\n",
    "    # also serves to reduce unnecessary gradient computations and memory usage for tensors with requires_grad=True\n",
    "    with torch.no_grad():\n",
    "        for X, y in dataloader:\n",
    "            # Prepare Data\n",
    "            #X = X.to(device_cuda, non_blocking=True)\n",
    "            #y = y.to(device_cuda, non_blocking=True)\n",
    "            X = X.unsqueeze(1)\n",
    "            # make predictions and calculate loss and accuracy\n",
    "            pred = model(X)\n",
    "            test_loss += loss_fn(pred, y).item()\n",
    "\n",
    "    test_loss /= num_batches\n",
    "    \n",
    "    # Print either Validation or Test error\n",
    "    if valid:\n",
    "      print(f\"Validation Loss: {test_loss:>8f} \\n\")\n",
    "      valid_losses.append(test_loss)\n",
    "    else:\n",
    "      print(f\"Test Loss: {test_loss:>8f} \\n\")"
   ]
  },
  {
   "cell_type": "code",
   "execution_count": 42,
   "metadata": {
    "tags": []
   },
   "outputs": [
    {
     "name": "stdout",
     "output_type": "stream",
     "text": [
      "Learning Rate: 0.1\n",
      "Dropout Probability: 0.1\n",
      "Epoch 1\n",
      "-------------------------------\n",
      "loss: 24.210438  [   32/ 5920]\n",
      "loss: 69.106918  [ 1184/ 5920]\n",
      "loss: 33.377529  [ 2336/ 5920]\n"
     ]
    },
    {
     "ename": "KeyboardInterrupt",
     "evalue": "",
     "output_type": "error",
     "traceback": [
      "\u001b[0;31m---------------------------------------------------------------------------\u001b[0m",
      "\u001b[0;31mKeyboardInterrupt\u001b[0m                         Traceback (most recent call last)",
      "Cell \u001b[0;32mIn[42], line 18\u001b[0m\n\u001b[1;32m     15\u001b[0m \u001b[38;5;28;01mfor\u001b[39;00m t \u001b[38;5;129;01min\u001b[39;00m \u001b[38;5;28mrange\u001b[39m(epochs):\n\u001b[1;32m     17\u001b[0m     \u001b[38;5;28mprint\u001b[39m(\u001b[38;5;124mf\u001b[39m\u001b[38;5;124m\"\u001b[39m\u001b[38;5;124mEpoch \u001b[39m\u001b[38;5;132;01m{\u001b[39;00mt\u001b[38;5;241m+\u001b[39m\u001b[38;5;241m1\u001b[39m\u001b[38;5;132;01m}\u001b[39;00m\u001b[38;5;130;01m\\n\u001b[39;00m\u001b[38;5;124m-------------------------------\u001b[39m\u001b[38;5;124m\"\u001b[39m)\n\u001b[0;32m---> 18\u001b[0m     \u001b[43mtrain_loop\u001b[49m\u001b[43m(\u001b[49m\u001b[43mdataloader_train\u001b[49m\u001b[43m,\u001b[49m\u001b[43m \u001b[49m\u001b[43mmodel\u001b[49m\u001b[43m,\u001b[49m\u001b[43m \u001b[49m\u001b[43mloss_fn\u001b[49m\u001b[43m,\u001b[49m\u001b[43m \u001b[49m\u001b[43moptimizer\u001b[49m\u001b[43m)\u001b[49m\n\u001b[1;32m     19\u001b[0m     test_valid_loop(dataloader_valid, model, loss_fn)\n\u001b[1;32m     21\u001b[0m \u001b[38;5;66;03m# Should we pick the best validation loss or just the most recent?\u001b[39;00m\n\u001b[1;32m     22\u001b[0m \n\u001b[1;32m     23\u001b[0m \u001b[38;5;66;03m# Most Recent:\u001b[39;00m\n\u001b[1;32m     24\u001b[0m \u001b[38;5;66;03m# tuning_valid_losses.append((valid_losses[epochs -1 ], lr, p))\u001b[39;00m\n\u001b[1;32m     25\u001b[0m \n\u001b[1;32m     26\u001b[0m \u001b[38;5;66;03m# Best:\u001b[39;00m\n",
      "Cell \u001b[0;32mIn[41], line 21\u001b[0m, in \u001b[0;36mtrain_loop\u001b[0;34m(dataloader, model, loss_fn, optimizer)\u001b[0m\n\u001b[1;32m     18\u001b[0m loss \u001b[38;5;241m=\u001b[39m loss_fn(pred, y)\n\u001b[1;32m     20\u001b[0m \u001b[38;5;66;03m# Backpropagation\u001b[39;00m\n\u001b[0;32m---> 21\u001b[0m \u001b[43mloss\u001b[49m\u001b[38;5;241;43m.\u001b[39;49m\u001b[43mbackward\u001b[49m\u001b[43m(\u001b[49m\u001b[43m)\u001b[49m\n\u001b[1;32m     22\u001b[0m optimizer\u001b[38;5;241m.\u001b[39mstep()\n\u001b[1;32m     23\u001b[0m optimizer\u001b[38;5;241m.\u001b[39mzero_grad()\n",
      "File \u001b[0;32m~/.local/lib/python3.11/site-packages/torch/_tensor.py:522\u001b[0m, in \u001b[0;36mTensor.backward\u001b[0;34m(self, gradient, retain_graph, create_graph, inputs)\u001b[0m\n\u001b[1;32m    512\u001b[0m \u001b[38;5;28;01mif\u001b[39;00m has_torch_function_unary(\u001b[38;5;28mself\u001b[39m):\n\u001b[1;32m    513\u001b[0m     \u001b[38;5;28;01mreturn\u001b[39;00m handle_torch_function(\n\u001b[1;32m    514\u001b[0m         Tensor\u001b[38;5;241m.\u001b[39mbackward,\n\u001b[1;32m    515\u001b[0m         (\u001b[38;5;28mself\u001b[39m,),\n\u001b[0;32m   (...)\u001b[0m\n\u001b[1;32m    520\u001b[0m         inputs\u001b[38;5;241m=\u001b[39minputs,\n\u001b[1;32m    521\u001b[0m     )\n\u001b[0;32m--> 522\u001b[0m \u001b[43mtorch\u001b[49m\u001b[38;5;241;43m.\u001b[39;49m\u001b[43mautograd\u001b[49m\u001b[38;5;241;43m.\u001b[39;49m\u001b[43mbackward\u001b[49m\u001b[43m(\u001b[49m\n\u001b[1;32m    523\u001b[0m \u001b[43m    \u001b[49m\u001b[38;5;28;43mself\u001b[39;49m\u001b[43m,\u001b[49m\u001b[43m \u001b[49m\u001b[43mgradient\u001b[49m\u001b[43m,\u001b[49m\u001b[43m \u001b[49m\u001b[43mretain_graph\u001b[49m\u001b[43m,\u001b[49m\u001b[43m \u001b[49m\u001b[43mcreate_graph\u001b[49m\u001b[43m,\u001b[49m\u001b[43m \u001b[49m\u001b[43minputs\u001b[49m\u001b[38;5;241;43m=\u001b[39;49m\u001b[43minputs\u001b[49m\n\u001b[1;32m    524\u001b[0m \u001b[43m\u001b[49m\u001b[43m)\u001b[49m\n",
      "File \u001b[0;32m~/.local/lib/python3.11/site-packages/torch/autograd/__init__.py:266\u001b[0m, in \u001b[0;36mbackward\u001b[0;34m(tensors, grad_tensors, retain_graph, create_graph, grad_variables, inputs)\u001b[0m\n\u001b[1;32m    261\u001b[0m     retain_graph \u001b[38;5;241m=\u001b[39m create_graph\n\u001b[1;32m    263\u001b[0m \u001b[38;5;66;03m# The reason we repeat the same comment below is that\u001b[39;00m\n\u001b[1;32m    264\u001b[0m \u001b[38;5;66;03m# some Python versions print out the first line of a multi-line function\u001b[39;00m\n\u001b[1;32m    265\u001b[0m \u001b[38;5;66;03m# calls in the traceback and some print out the last line\u001b[39;00m\n\u001b[0;32m--> 266\u001b[0m \u001b[43mVariable\u001b[49m\u001b[38;5;241;43m.\u001b[39;49m\u001b[43m_execution_engine\u001b[49m\u001b[38;5;241;43m.\u001b[39;49m\u001b[43mrun_backward\u001b[49m\u001b[43m(\u001b[49m\u001b[43m  \u001b[49m\u001b[38;5;66;43;03m# Calls into the C++ engine to run the backward pass\u001b[39;49;00m\n\u001b[1;32m    267\u001b[0m \u001b[43m    \u001b[49m\u001b[43mtensors\u001b[49m\u001b[43m,\u001b[49m\n\u001b[1;32m    268\u001b[0m \u001b[43m    \u001b[49m\u001b[43mgrad_tensors_\u001b[49m\u001b[43m,\u001b[49m\n\u001b[1;32m    269\u001b[0m \u001b[43m    \u001b[49m\u001b[43mretain_graph\u001b[49m\u001b[43m,\u001b[49m\n\u001b[1;32m    270\u001b[0m \u001b[43m    \u001b[49m\u001b[43mcreate_graph\u001b[49m\u001b[43m,\u001b[49m\n\u001b[1;32m    271\u001b[0m \u001b[43m    \u001b[49m\u001b[43minputs\u001b[49m\u001b[43m,\u001b[49m\n\u001b[1;32m    272\u001b[0m \u001b[43m    \u001b[49m\u001b[43mallow_unreachable\u001b[49m\u001b[38;5;241;43m=\u001b[39;49m\u001b[38;5;28;43;01mTrue\u001b[39;49;00m\u001b[43m,\u001b[49m\n\u001b[1;32m    273\u001b[0m \u001b[43m    \u001b[49m\u001b[43maccumulate_grad\u001b[49m\u001b[38;5;241;43m=\u001b[39;49m\u001b[38;5;28;43;01mTrue\u001b[39;49;00m\u001b[43m,\u001b[49m\n\u001b[1;32m    274\u001b[0m \u001b[43m\u001b[49m\u001b[43m)\u001b[49m\n",
      "\u001b[0;31mKeyboardInterrupt\u001b[0m: "
     ]
    }
   ],
   "source": [
    "tuning_valid_losses = []\n",
    "\n",
    "for lr in [0.1, 0.01, 0.001, 0.0001, 0.00001]:\n",
    "        for p in [0.1, 0.2, 0.3, 0.4, 0.5]:\n",
    "            \n",
    "            model = Net(p)\n",
    "            valid_losses = []\n",
    "\n",
    "            loss_fn = nn.MSELoss()\n",
    "            optimizer = optim.Adam(model.parameters(), lr=lr)\n",
    "            \n",
    "            # 5 epochs didn't give any of them enough to learn anything. Maybe do 10-20?\n",
    "            epochs = 10\n",
    "            print(f\"Learning Rate: {lr}\\nDropout Probability: {p}\")\n",
    "            for t in range(epochs):\n",
    "\n",
    "                print(f\"Epoch {t+1}\\n-------------------------------\")\n",
    "                train_loop(dataloader_train, model, loss_fn, optimizer)\n",
    "                test_valid_loop(dataloader_valid, model, loss_fn)\n",
    "\n",
    "            # Should we pick the best validation loss or just the most recent?\n",
    "            \n",
    "            # Most Recent:\n",
    "            # tuning_valid_losses.append((valid_losses[epochs -1 ], lr, p))\n",
    "            \n",
    "            # Best:\n",
    "            best_valid_loss = min(valid_losses)\n",
    "\n",
    "            tuning_valid_losses.append((best_valid_loss, lr, p))\n",
    "            \n",
    "print(\"Done!\\n\")"
   ]
  },
  {
   "cell_type": "code",
   "execution_count": 50,
   "metadata": {
    "tags": []
   },
   "outputs": [
    {
     "name": "stdout",
     "output_type": "stream",
     "text": [
      "Optimal Learning Rate: 1e-05\n",
      "Optimal Dropout Probability: 0.3\n"
     ]
    }
   ],
   "source": [
    "# Pull out best lr and p from above\n",
    "\n",
    "best_loss = np.inf\n",
    "for loss, lr, p in tuning_valid_losses:\n",
    "    if loss < best_loss:\n",
    "        best_loss = loss\n",
    "        tuned_lr = lr\n",
    "        tuned_p = p\n",
    "\n",
    "print(f\"Optimal Learning Rate: {tuned_lr}\\nOptimal Dropout Probability: {tuned_p}\")"
   ]
  },
  {
   "cell_type": "markdown",
   "metadata": {},
   "source": [
    "### Training w/ best lr and p"
   ]
  },
  {
   "cell_type": "code",
   "execution_count": 22,
   "metadata": {
    "tags": []
   },
   "outputs": [],
   "source": [
    "tuned_lr = 0.001\n",
    "tuned_p = 0.1\n",
    "model = Net(tuned_p)\n",
    "loss_fn = nn.MSELoss()\n",
    "optimizer = optim.Adam(model.parameters(), lr=tuned_lr)\n",
    "epochs = 50"
   ]
  },
  {
   "cell_type": "code",
   "execution_count": 23,
   "metadata": {
    "tags": []
   },
   "outputs": [
    {
     "name": "stdout",
     "output_type": "stream",
     "text": [
      "Epoch 1\n",
      "-------------------------------\n",
      "loss: 42.643753  [   32/ 5920]\n",
      "loss: 58.637432  [ 1184/ 5920]\n",
      "loss: 43.082748  [ 2336/ 5920]\n",
      "loss: 34.030399  [ 3488/ 5920]\n",
      "loss: 43.447399  [ 4640/ 5920]\n",
      "loss: 34.601677  [ 5792/ 5920]\n",
      "Validation Loss: 44.692705 \n",
      "\n",
      "Epoch 2\n",
      "-------------------------------\n",
      "loss: 36.916298  [   32/ 5920]\n",
      "loss: 37.568687  [ 1184/ 5920]\n",
      "loss: 52.522339  [ 2336/ 5920]\n",
      "loss: 23.038998  [ 3488/ 5920]\n",
      "loss: 42.694271  [ 4640/ 5920]\n",
      "loss: 39.138733  [ 5792/ 5920]\n",
      "Validation Loss: 44.536416 \n",
      "\n",
      "Epoch 3\n",
      "-------------------------------\n",
      "loss: 31.573055  [   32/ 5920]\n",
      "loss: 27.716795  [ 1184/ 5920]\n",
      "loss: 51.488251  [ 2336/ 5920]\n",
      "loss: 57.713089  [ 3488/ 5920]\n",
      "loss: 44.701759  [ 4640/ 5920]\n",
      "loss: 69.234703  [ 5792/ 5920]\n",
      "Validation Loss: 44.007914 \n",
      "\n",
      "Epoch 4\n",
      "-------------------------------\n",
      "loss: 33.839417  [   32/ 5920]\n",
      "loss: 46.176689  [ 1184/ 5920]\n",
      "loss: 53.793320  [ 2336/ 5920]\n",
      "loss: 62.016388  [ 3488/ 5920]\n",
      "loss: 52.336296  [ 4640/ 5920]\n",
      "loss: 45.079613  [ 5792/ 5920]\n",
      "Validation Loss: 44.358516 \n",
      "\n",
      "Epoch 5\n",
      "-------------------------------\n",
      "loss: 51.068005  [   32/ 5920]\n",
      "loss: 36.046047  [ 1184/ 5920]\n",
      "loss: 56.279732  [ 2336/ 5920]\n",
      "loss: 25.460424  [ 3488/ 5920]\n",
      "loss: 39.892990  [ 4640/ 5920]\n",
      "loss: 49.473900  [ 5792/ 5920]\n",
      "Validation Loss: 43.901349 \n",
      "\n",
      "Epoch 6\n",
      "-------------------------------\n",
      "loss: 17.677565  [   32/ 5920]\n",
      "loss: 42.160984  [ 1184/ 5920]\n",
      "loss: 47.330898  [ 2336/ 5920]\n",
      "loss: 53.069588  [ 3488/ 5920]\n",
      "loss: 39.377701  [ 4640/ 5920]\n",
      "loss: 41.303562  [ 5792/ 5920]\n",
      "Validation Loss: 44.737862 \n",
      "\n",
      "Epoch 7\n",
      "-------------------------------\n",
      "loss: 20.777586  [   32/ 5920]\n",
      "loss: 26.642900  [ 1184/ 5920]\n",
      "loss: 27.332413  [ 2336/ 5920]\n",
      "loss: 59.540951  [ 3488/ 5920]\n",
      "loss: 34.949749  [ 4640/ 5920]\n",
      "loss: 59.161583  [ 5792/ 5920]\n",
      "Validation Loss: 43.691285 \n",
      "\n",
      "Epoch 8\n",
      "-------------------------------\n",
      "loss: 46.296009  [   32/ 5920]\n",
      "loss: 22.734707  [ 1184/ 5920]\n",
      "loss: 25.129326  [ 2336/ 5920]\n",
      "loss: 45.286610  [ 3488/ 5920]\n",
      "loss: 49.140690  [ 4640/ 5920]\n",
      "loss: 48.311123  [ 5792/ 5920]\n",
      "Validation Loss: 43.635025 \n",
      "\n",
      "Epoch 9\n",
      "-------------------------------\n",
      "loss: 37.685699  [   32/ 5920]\n",
      "loss: 38.787758  [ 1184/ 5920]\n",
      "loss: 40.617195  [ 2336/ 5920]\n",
      "loss: 52.034710  [ 3488/ 5920]\n",
      "loss: 26.934731  [ 4640/ 5920]\n",
      "loss: 40.849747  [ 5792/ 5920]\n",
      "Validation Loss: 44.103109 \n",
      "\n",
      "Epoch 10\n",
      "-------------------------------\n",
      "loss: 47.851643  [   32/ 5920]\n",
      "loss: 22.896568  [ 1184/ 5920]\n",
      "loss: 50.823715  [ 2336/ 5920]\n",
      "loss: 47.464016  [ 3488/ 5920]\n",
      "loss: 37.040222  [ 4640/ 5920]\n",
      "loss: 32.277790  [ 5792/ 5920]\n",
      "Validation Loss: 44.184776 \n",
      "\n",
      "Epoch 11\n",
      "-------------------------------\n",
      "loss: 46.828686  [   32/ 5920]\n",
      "loss: 40.305683  [ 1184/ 5920]\n",
      "loss: 47.816158  [ 2336/ 5920]\n",
      "loss: 35.798771  [ 3488/ 5920]\n",
      "loss: 32.928741  [ 4640/ 5920]\n",
      "loss: 54.409874  [ 5792/ 5920]\n",
      "Validation Loss: 45.556712 \n",
      "\n",
      "Epoch 12\n",
      "-------------------------------\n",
      "loss: 37.171150  [   32/ 5920]\n",
      "loss: 43.292976  [ 1184/ 5920]\n",
      "loss: 71.830032  [ 2336/ 5920]\n",
      "loss: 22.709984  [ 3488/ 5920]\n",
      "loss: 32.264599  [ 4640/ 5920]\n",
      "loss: 26.352198  [ 5792/ 5920]\n",
      "Validation Loss: 44.660355 \n",
      "\n",
      "Epoch 13\n",
      "-------------------------------\n",
      "loss: 34.590973  [   32/ 5920]\n",
      "loss: 33.723621  [ 1184/ 5920]\n",
      "loss: 39.387871  [ 2336/ 5920]\n",
      "loss: 30.742096  [ 3488/ 5920]\n",
      "loss: 45.259232  [ 4640/ 5920]\n",
      "loss: 23.479839  [ 5792/ 5920]\n",
      "Validation Loss: 45.919008 \n",
      "\n",
      "Epoch 14\n",
      "-------------------------------\n",
      "loss: 61.544643  [   32/ 5920]\n",
      "loss: 42.187237  [ 1184/ 5920]\n",
      "loss: 46.279976  [ 2336/ 5920]\n",
      "loss: 45.639626  [ 3488/ 5920]\n",
      "loss: 35.190990  [ 4640/ 5920]\n",
      "loss: 45.235218  [ 5792/ 5920]\n",
      "Validation Loss: 46.444940 \n",
      "\n",
      "Epoch 15\n",
      "-------------------------------\n",
      "loss: 23.403708  [   32/ 5920]\n",
      "loss: 28.832157  [ 1184/ 5920]\n",
      "loss: 37.680656  [ 2336/ 5920]\n",
      "loss: 23.090874  [ 3488/ 5920]\n",
      "loss: 24.452015  [ 4640/ 5920]\n",
      "loss: 50.299332  [ 5792/ 5920]\n",
      "Validation Loss: 46.631278 \n",
      "\n",
      "Epoch 16\n",
      "-------------------------------\n",
      "loss: 45.846401  [   32/ 5920]\n",
      "loss: 34.476395  [ 1184/ 5920]\n",
      "loss: 38.849285  [ 2336/ 5920]\n",
      "loss: 27.618519  [ 3488/ 5920]\n",
      "loss: 30.414310  [ 4640/ 5920]\n",
      "loss: 28.444559  [ 5792/ 5920]\n",
      "Validation Loss: 47.791270 \n",
      "\n",
      "Epoch 17\n",
      "-------------------------------\n",
      "loss: 28.632561  [   32/ 5920]\n",
      "loss: 23.023975  [ 1184/ 5920]\n",
      "loss: 22.200233  [ 2336/ 5920]\n",
      "loss: 19.214123  [ 3488/ 5920]\n",
      "loss: 45.656818  [ 4640/ 5920]\n",
      "loss: 25.779310  [ 5792/ 5920]\n",
      "Validation Loss: 48.140149 \n",
      "\n",
      "Epoch 18\n",
      "-------------------------------\n",
      "loss: 24.730370  [   32/ 5920]\n",
      "loss: 36.576897  [ 1184/ 5920]\n",
      "loss: 27.602844  [ 2336/ 5920]\n",
      "loss: 33.677876  [ 3488/ 5920]\n",
      "loss: 21.803871  [ 4640/ 5920]\n",
      "loss: 21.927837  [ 5792/ 5920]\n",
      "Validation Loss: 49.262000 \n",
      "\n",
      "Done!\n"
     ]
    }
   ],
   "source": [
    "best_loss = np.inf\n",
    "patience = 10\n",
    "no_improvement_counter = 0\n",
    "\n",
    "train_losses = []\n",
    "valid_losses = []\n",
    "\n",
    "for t in range(epochs):\n",
    "    \n",
    "    if no_improvement_counter >= patience:\n",
    "        break\n",
    "\n",
    "    print(f\"Epoch {t+1}\\n-------------------------------\")\n",
    "    train_loop(dataloader_train, model, loss_fn, optimizer)\n",
    "    test_valid_loop(dataloader_valid, model, loss_fn)\n",
    "\n",
    "    if valid_losses[t] < best_loss:\n",
    "        best_loss = valid_losses[t]\n",
    "        no_improvement_counter = 0\n",
    "        best_model_weights = copy.deepcopy(model.state_dict())\n",
    "    else:\n",
    "        no_improvement_counter += 1\n",
    "    \n",
    "print(\"Done!\")"
   ]
  },
  {
   "cell_type": "code",
   "execution_count": 24,
   "metadata": {
    "tags": []
   },
   "outputs": [
    {
     "name": "stdout",
     "output_type": "stream",
     "text": [
      "R-squared: 0.022694945335388184\n"
     ]
    }
   ],
   "source": [
    "def r_squared(actual, predicted):\n",
    "    # Calculate mean of actual values\n",
    "    mean_actual = np.mean(actual)\n",
    "    \n",
    "    # Calculate sum of squared differences between actual and predicted values\n",
    "    ss_residual = np.sum((actual - predicted) ** 2)\n",
    "    \n",
    "    # Calculate sum of squared differences between actual and mean values\n",
    "    ss_total = np.sum((actual - mean_actual) ** 2)\n",
    "    \n",
    "    # Calculate R-squared\n",
    "    r2 = 1 - (ss_residual / ss_total)\n",
    "    \n",
    "    return r2\n",
    "\n",
    "actual_values = np.array(y_test.squeeze(1))\n",
    "\n",
    "# Instantiate model\n",
    "model_best_weights = Net(0.2)\n",
    "#model_best_weights = DenseNet(num_classes=1, growth_rate=32, block_config=(6, 12, 24, 16))\n",
    "\n",
    "# Load the best model weights\n",
    "model_best_weights.load_state_dict(best_model_weights)\n",
    "\n",
    "# Set the model to evaluation mode\n",
    "model_best_weights.eval()\n",
    "#model.eval()\n",
    "predicted_values = model_best_weights(X_test.unsqueeze(1)).squeeze(1).detach().numpy()\n",
    "#predicted_values = model(X_test.unsqueeze(1)).squeeze(1).detach().numpy()\n",
    "\n",
    "r_squared_value = r_squared(actual_values, predicted_values)\n",
    "print(\"R-squared:\", r_squared_value)"
   ]
  },
  {
   "cell_type": "code",
   "execution_count": 25,
   "metadata": {
    "tags": []
   },
   "outputs": [
    {
     "name": "stdout",
     "output_type": "stream",
     "text": [
      "Test Loss: 44.797438 \n",
      "\n"
     ]
    }
   ],
   "source": [
    "test_valid_loop(dataloader_test, model_best_weights, loss_fn, valid = False)"
   ]
  },
  {
   "cell_type": "markdown",
   "metadata": {},
   "source": [
    "### Regress PRECT on Nino"
   ]
  },
  {
   "cell_type": "code",
   "execution_count": 26,
   "metadata": {
    "tags": []
   },
   "outputs": [],
   "source": [
    "Nino_train = Nino_train.reshape(5920, 1)\n",
    "Nino_test = Nino_test.reshape(740, 1)"
   ]
  },
  {
   "cell_type": "code",
   "execution_count": 27,
   "metadata": {
    "tags": []
   },
   "outputs": [],
   "source": [
    "linear_mod = LinearRegression()\n",
    "linear_mod.fit(Nino_train, y_train)\n",
    "y_pred = linear_mod.predict(Nino_test)"
   ]
  },
  {
   "cell_type": "markdown",
   "metadata": {},
   "source": [
    "# Plot Predictions"
   ]
  },
  {
   "cell_type": "markdown",
   "metadata": {},
   "source": [
    "### Create Predictions Table"
   ]
  },
  {
   "cell_type": "code",
   "execution_count": 28,
   "metadata": {
    "tags": []
   },
   "outputs": [],
   "source": [
    "pred_dict = dict()\n",
    "pred_dict2 = dict()\n",
    "pred_dict3 = dict()\n",
    "\n",
    "for i in range(1940, 2014):\n",
    "    pred_dict[i] = actual_values[i - 1940]\n",
    "    pred_dict2[i] = predicted_values[i - 1940]\n",
    "    pred_dict3[i] = y_pred[i - 1940]"
   ]
  },
  {
   "cell_type": "code",
   "execution_count": 29,
   "metadata": {
    "tags": []
   },
   "outputs": [],
   "source": [
    "pred_dict3 = {key: value.item() for key, value in pred_dict3.items()}"
   ]
  },
  {
   "cell_type": "code",
   "execution_count": 30,
   "metadata": {
    "tags": []
   },
   "outputs": [],
   "source": [
    "pred_df = pd.DataFrame(list(pred_dict2.items()), columns=['Year', 'Predicted PRECT'])"
   ]
  },
  {
   "cell_type": "code",
   "execution_count": 31,
   "metadata": {
    "tags": []
   },
   "outputs": [],
   "source": [
    "Nino_pred_df = pd.DataFrame(list(pred_dict3.items()), columns = ['Year', 'Regression PRECT'])"
   ]
  },
  {
   "cell_type": "code",
   "execution_count": 32,
   "metadata": {
    "tags": []
   },
   "outputs": [
    {
     "data": {
      "text/html": [
       "<div>\n",
       "<style scoped>\n",
       "    .dataframe tbody tr th:only-of-type {\n",
       "        vertical-align: middle;\n",
       "    }\n",
       "\n",
       "    .dataframe tbody tr th {\n",
       "        vertical-align: top;\n",
       "    }\n",
       "\n",
       "    .dataframe thead th {\n",
       "        text-align: right;\n",
       "    }\n",
       "</style>\n",
       "<table border=\"1\" class=\"dataframe\">\n",
       "  <thead>\n",
       "    <tr style=\"text-align: right;\">\n",
       "      <th></th>\n",
       "      <th>Year</th>\n",
       "      <th>Predicted PRECT</th>\n",
       "    </tr>\n",
       "  </thead>\n",
       "  <tbody>\n",
       "    <tr>\n",
       "      <th>0</th>\n",
       "      <td>1940</td>\n",
       "      <td>2.507895</td>\n",
       "    </tr>\n",
       "    <tr>\n",
       "      <th>1</th>\n",
       "      <td>1941</td>\n",
       "      <td>1.724006</td>\n",
       "    </tr>\n",
       "    <tr>\n",
       "      <th>2</th>\n",
       "      <td>1942</td>\n",
       "      <td>2.167982</td>\n",
       "    </tr>\n",
       "    <tr>\n",
       "      <th>3</th>\n",
       "      <td>1943</td>\n",
       "      <td>-0.408115</td>\n",
       "    </tr>\n",
       "    <tr>\n",
       "      <th>4</th>\n",
       "      <td>1944</td>\n",
       "      <td>-2.617138</td>\n",
       "    </tr>\n",
       "    <tr>\n",
       "      <th>...</th>\n",
       "      <td>...</td>\n",
       "      <td>...</td>\n",
       "    </tr>\n",
       "    <tr>\n",
       "      <th>69</th>\n",
       "      <td>2009</td>\n",
       "      <td>-1.451406</td>\n",
       "    </tr>\n",
       "    <tr>\n",
       "      <th>70</th>\n",
       "      <td>2010</td>\n",
       "      <td>0.013470</td>\n",
       "    </tr>\n",
       "    <tr>\n",
       "      <th>71</th>\n",
       "      <td>2011</td>\n",
       "      <td>-2.948071</td>\n",
       "    </tr>\n",
       "    <tr>\n",
       "      <th>72</th>\n",
       "      <td>2012</td>\n",
       "      <td>2.963790</td>\n",
       "    </tr>\n",
       "    <tr>\n",
       "      <th>73</th>\n",
       "      <td>2013</td>\n",
       "      <td>1.418823</td>\n",
       "    </tr>\n",
       "  </tbody>\n",
       "</table>\n",
       "<p>74 rows × 2 columns</p>\n",
       "</div>"
      ],
      "text/plain": [
       "    Year  Predicted PRECT\n",
       "0   1940         2.507895\n",
       "1   1941         1.724006\n",
       "2   1942         2.167982\n",
       "3   1943        -0.408115\n",
       "4   1944        -2.617138\n",
       "..   ...              ...\n",
       "69  2009        -1.451406\n",
       "70  2010         0.013470\n",
       "71  2011        -2.948071\n",
       "72  2012         2.963790\n",
       "73  2013         1.418823\n",
       "\n",
       "[74 rows x 2 columns]"
      ]
     },
     "execution_count": 32,
     "metadata": {},
     "output_type": "execute_result"
    }
   ],
   "source": [
    "pred_df"
   ]
  },
  {
   "cell_type": "code",
   "execution_count": 33,
   "metadata": {
    "tags": []
   },
   "outputs": [
    {
     "data": {
      "text/html": [
       "<div>\n",
       "<style scoped>\n",
       "    .dataframe tbody tr th:only-of-type {\n",
       "        vertical-align: middle;\n",
       "    }\n",
       "\n",
       "    .dataframe tbody tr th {\n",
       "        vertical-align: top;\n",
       "    }\n",
       "\n",
       "    .dataframe thead th {\n",
       "        text-align: right;\n",
       "    }\n",
       "</style>\n",
       "<table border=\"1\" class=\"dataframe\">\n",
       "  <thead>\n",
       "    <tr style=\"text-align: right;\">\n",
       "      <th></th>\n",
       "      <th>Year</th>\n",
       "      <th>Regression PRECT</th>\n",
       "    </tr>\n",
       "  </thead>\n",
       "  <tbody>\n",
       "    <tr>\n",
       "      <th>0</th>\n",
       "      <td>1940</td>\n",
       "      <td>0.004698</td>\n",
       "    </tr>\n",
       "    <tr>\n",
       "      <th>1</th>\n",
       "      <td>1941</td>\n",
       "      <td>0.004111</td>\n",
       "    </tr>\n",
       "    <tr>\n",
       "      <th>2</th>\n",
       "      <td>1942</td>\n",
       "      <td>0.008213</td>\n",
       "    </tr>\n",
       "    <tr>\n",
       "      <th>3</th>\n",
       "      <td>1943</td>\n",
       "      <td>-0.008488</td>\n",
       "    </tr>\n",
       "    <tr>\n",
       "      <th>4</th>\n",
       "      <td>1944</td>\n",
       "      <td>-0.008669</td>\n",
       "    </tr>\n",
       "    <tr>\n",
       "      <th>...</th>\n",
       "      <td>...</td>\n",
       "      <td>...</td>\n",
       "    </tr>\n",
       "    <tr>\n",
       "      <th>69</th>\n",
       "      <td>2009</td>\n",
       "      <td>0.007255</td>\n",
       "    </tr>\n",
       "    <tr>\n",
       "      <th>70</th>\n",
       "      <td>2010</td>\n",
       "      <td>0.000329</td>\n",
       "    </tr>\n",
       "    <tr>\n",
       "      <th>71</th>\n",
       "      <td>2011</td>\n",
       "      <td>0.005199</td>\n",
       "    </tr>\n",
       "    <tr>\n",
       "      <th>72</th>\n",
       "      <td>2012</td>\n",
       "      <td>-0.005676</td>\n",
       "    </tr>\n",
       "    <tr>\n",
       "      <th>73</th>\n",
       "      <td>2013</td>\n",
       "      <td>-0.000449</td>\n",
       "    </tr>\n",
       "  </tbody>\n",
       "</table>\n",
       "<p>74 rows × 2 columns</p>\n",
       "</div>"
      ],
      "text/plain": [
       "    Year  Regression PRECT\n",
       "0   1940          0.004698\n",
       "1   1941          0.004111\n",
       "2   1942          0.008213\n",
       "3   1943         -0.008488\n",
       "4   1944         -0.008669\n",
       "..   ...               ...\n",
       "69  2009          0.007255\n",
       "70  2010          0.000329\n",
       "71  2011          0.005199\n",
       "72  2012         -0.005676\n",
       "73  2013         -0.000449\n",
       "\n",
       "[74 rows x 2 columns]"
      ]
     },
     "execution_count": 33,
     "metadata": {},
     "output_type": "execute_result"
    }
   ],
   "source": [
    "Nino_pred_df"
   ]
  },
  {
   "cell_type": "code",
   "execution_count": 34,
   "metadata": {},
   "outputs": [],
   "source": [
    "actual_df = pd.DataFrame(list(pred_dict.items()), columns=['Year', 'Actual PRECT'])\n",
    "# merge actual values and predicted values\n",
    "actual_pred_df = pd.merge(actual_df, pred_df, on='Year')\n",
    "actual_pred_df = pd.merge(actual_pred_df, Nino_pred_df, on='Year')"
   ]
  },
  {
   "cell_type": "code",
   "execution_count": 35,
   "metadata": {
    "tags": []
   },
   "outputs": [
    {
     "data": {
      "text/html": [
       "<div>\n",
       "<style scoped>\n",
       "    .dataframe tbody tr th:only-of-type {\n",
       "        vertical-align: middle;\n",
       "    }\n",
       "\n",
       "    .dataframe tbody tr th {\n",
       "        vertical-align: top;\n",
       "    }\n",
       "\n",
       "    .dataframe thead th {\n",
       "        text-align: right;\n",
       "    }\n",
       "</style>\n",
       "<table border=\"1\" class=\"dataframe\">\n",
       "  <thead>\n",
       "    <tr style=\"text-align: right;\">\n",
       "      <th></th>\n",
       "      <th>Year</th>\n",
       "      <th>Actual PRECT</th>\n",
       "      <th>Predicted PRECT</th>\n",
       "      <th>Regression PRECT</th>\n",
       "    </tr>\n",
       "  </thead>\n",
       "  <tbody>\n",
       "    <tr>\n",
       "      <th>0</th>\n",
       "      <td>1940</td>\n",
       "      <td>-4.684326</td>\n",
       "      <td>2.507895</td>\n",
       "      <td>0.004698</td>\n",
       "    </tr>\n",
       "    <tr>\n",
       "      <th>1</th>\n",
       "      <td>1941</td>\n",
       "      <td>2.021335</td>\n",
       "      <td>1.724006</td>\n",
       "      <td>0.004111</td>\n",
       "    </tr>\n",
       "    <tr>\n",
       "      <th>2</th>\n",
       "      <td>1942</td>\n",
       "      <td>14.602043</td>\n",
       "      <td>2.167982</td>\n",
       "      <td>0.008213</td>\n",
       "    </tr>\n",
       "    <tr>\n",
       "      <th>3</th>\n",
       "      <td>1943</td>\n",
       "      <td>-9.760468</td>\n",
       "      <td>-0.408115</td>\n",
       "      <td>-0.008488</td>\n",
       "    </tr>\n",
       "    <tr>\n",
       "      <th>4</th>\n",
       "      <td>1944</td>\n",
       "      <td>3.969418</td>\n",
       "      <td>-2.617138</td>\n",
       "      <td>-0.008669</td>\n",
       "    </tr>\n",
       "    <tr>\n",
       "      <th>...</th>\n",
       "      <td>...</td>\n",
       "      <td>...</td>\n",
       "      <td>...</td>\n",
       "      <td>...</td>\n",
       "    </tr>\n",
       "    <tr>\n",
       "      <th>69</th>\n",
       "      <td>2009</td>\n",
       "      <td>0.421508</td>\n",
       "      <td>-1.451406</td>\n",
       "      <td>0.007255</td>\n",
       "    </tr>\n",
       "    <tr>\n",
       "      <th>70</th>\n",
       "      <td>2010</td>\n",
       "      <td>-11.057805</td>\n",
       "      <td>0.013470</td>\n",
       "      <td>0.000329</td>\n",
       "    </tr>\n",
       "    <tr>\n",
       "      <th>71</th>\n",
       "      <td>2011</td>\n",
       "      <td>0.386877</td>\n",
       "      <td>-2.948071</td>\n",
       "      <td>0.005199</td>\n",
       "    </tr>\n",
       "    <tr>\n",
       "      <th>72</th>\n",
       "      <td>2012</td>\n",
       "      <td>5.838967</td>\n",
       "      <td>2.963790</td>\n",
       "      <td>-0.005676</td>\n",
       "    </tr>\n",
       "    <tr>\n",
       "      <th>73</th>\n",
       "      <td>2013</td>\n",
       "      <td>-2.517413</td>\n",
       "      <td>1.418823</td>\n",
       "      <td>-0.000449</td>\n",
       "    </tr>\n",
       "  </tbody>\n",
       "</table>\n",
       "<p>74 rows × 4 columns</p>\n",
       "</div>"
      ],
      "text/plain": [
       "    Year  Actual PRECT  Predicted PRECT  Regression PRECT\n",
       "0   1940     -4.684326         2.507895          0.004698\n",
       "1   1941      2.021335         1.724006          0.004111\n",
       "2   1942     14.602043         2.167982          0.008213\n",
       "3   1943     -9.760468        -0.408115         -0.008488\n",
       "4   1944      3.969418        -2.617138         -0.008669\n",
       "..   ...           ...              ...               ...\n",
       "69  2009      0.421508        -1.451406          0.007255\n",
       "70  2010    -11.057805         0.013470          0.000329\n",
       "71  2011      0.386877        -2.948071          0.005199\n",
       "72  2012      5.838967         2.963790         -0.005676\n",
       "73  2013     -2.517413         1.418823         -0.000449\n",
       "\n",
       "[74 rows x 4 columns]"
      ]
     },
     "execution_count": 35,
     "metadata": {},
     "output_type": "execute_result"
    }
   ],
   "source": [
    "actual_pred_df"
   ]
  },
  {
   "cell_type": "code",
   "execution_count": 36,
   "metadata": {
    "tags": []
   },
   "outputs": [
    {
     "name": "stdout",
     "output_type": "stream",
     "text": [
      "R-squared: 0.00017992658097054637\n"
     ]
    }
   ],
   "source": [
    "r_squared_value = r_squared(actual_pred_df['Actual PRECT'], actual_pred_df['Regression PRECT'])\n",
    "print(\"R-squared:\", r_squared_value)"
   ]
  },
  {
   "cell_type": "markdown",
   "metadata": {},
   "source": [
    "### Create plot"
   ]
  },
  {
   "cell_type": "code",
   "execution_count": 37,
   "metadata": {},
   "outputs": [
    {
     "data": {
      "image/png": "[encoded data removed]",
      "text/plain": [
       "<Figure size 640x480 with 1 Axes>"
      ]
     },
     "metadata": {},
     "output_type": "display_data"
    }
   ],
   "source": [
    "plt.plot(actual_pred_df['Year'], actual_pred_df['Actual PRECT'], label='Observed PRECT')\n",
    "plt.plot(actual_pred_df['Year'], actual_pred_df['Predicted PRECT'], label='CNN Predicted PRECT')\n",
    "plt.plot(actual_pred_df['Year'], actual_pred_df['Regression PRECT'], label='Regression Predicted PRECT')\n",
    "plt.xlabel('Year')\n",
    "plt.ylabel('PRECT')\n",
    "plt.title('Observations and Predictions for One Test Simulation')\n",
    "plt.legend()\n",
    "plt.show()"
   ]
  },
  {
   "cell_type": "markdown",
   "metadata": {},
   "source": [
    "# Plot CNN Losses"
   ]
  },
  {
   "cell_type": "code",
   "execution_count": 38,
   "metadata": {
    "tags": []
   },
   "outputs": [],
   "source": [
    "train_loss_dict = dict()\n",
    "\n",
    "valid_loss_dict = dict()\n",
    "\n",
    "for i in range(len(train_losses)):\n",
    "    train_loss_dict[i+1] = train_losses[i]\n",
    "    valid_loss_dict[i+1] = valid_losses[i]"
   ]
  },
  {
   "cell_type": "code",
   "execution_count": 41,
   "metadata": {
    "tags": []
   },
   "outputs": [
    {
     "data": {
      "image/png": "[encoded data removed]",
      "text/plain": [
       "<Figure size 640x480 with 1 Axes>"
      ]
     },
     "metadata": {},
     "output_type": "display_data"
    }
   ],
   "source": [
    "train_loss_df = pd.DataFrame(list(train_loss_dict.items()), columns=['Epoch', 'Train Loss'])\n",
    "valid_loss_df = pd.DataFrame(list(valid_loss_dict.items()), columns=['Epoch', 'Valid Loss'])\n",
    "\n",
    "# Merge the DataFrames on 'Epoch' column\n",
    "merged_df = pd.merge(train_loss_df, valid_loss_df, on='Epoch')\n",
    "\n",
    "# Plot the losses\n",
    "plt.plot(merged_df['Epoch'], merged_df['Train Loss'], label='Train Loss')\n",
    "plt.plot(merged_df['Epoch'], merged_df['Valid Loss'], label='Valid Loss')\n",
    "plt.xlabel('Epoch')\n",
    "plt.ylabel('Loss')\n",
    "plt.title('Train and Valid Losses')\n",
    "plt.legend()\n",
    "plt.show()"
   ]
  },
  {
   "cell_type": "markdown",
   "metadata": {},
   "source": [
    "## Potential Resources\n",
    "\n",
    "https://www.nature.com/articles/s41598-020-57897-9\n",
    "\n",
    "https://www.nature.com/articles/s41586-019-1559-7 \n",
    "- first architecture option"
   ]
  }
 ],
 "metadata": {
  "kernelspec": {
   "display_name": "Python 3 (ipykernel)",
   "language": "python",
   "name": "python3"
  },
  "language_info": {
   "codemirror_mode": {
    "name": "ipython",
    "version": 3
   },
   "file_extension": ".py",
   "mimetype": "text/x-python",
   "name": "python",
   "nbconvert_exporter": "python",
   "pygments_lexer": "ipython3",
   "version": "3.11.4"
  }
 },
 "nbformat": 4,
 "nbformat_minor": 4
}
